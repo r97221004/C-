{
 "cells": [
  {
   "cell_type": "markdown",
   "id": "11c7e619",
   "metadata": {},
   "source": [
    "# 類別方法的基本操作"
   ]
  },
  {
   "cell_type": "markdown",
   "id": "cfa1bf33",
   "metadata": {},
   "source": [
    "### 沒有回傳值得寫法"
   ]
  },
  {
   "cell_type": "raw",
   "id": "edad3061",
   "metadata": {},
   "source": [
    "Person.cs 檔"
   ]
  },
  {
   "cell_type": "code",
   "execution_count": null,
   "id": "a1a6f116",
   "metadata": {},
   "outputs": [],
   "source": [
    "using System;\n",
    "\n",
    "\n",
    "namespace ConsoleApp1\n",
    "{\n",
    "        class Person\n",
    "        {\n",
    "            public double height;\n",
    "            public int age;\n",
    "            public string name;\n",
    "\n",
    "            public void SayHi()\n",
    "            {\n",
    "                Console.WriteLine(\"妳好啊!我叫\" + name);\n",
    "            }\n",
    "\n",
    "            public void IsAdult()\n",
    "            {\n",
    "                if (age >= 18)\n",
    "                {\n",
    "                    Console.WriteLine(true);\n",
    "                }\n",
    "                else\n",
    "                {\n",
    "                    Console.WriteLine(false);\n",
    "                }\n",
    "            }\n",
    "        }\n",
    "   \n",
    "}"
   ]
  },
  {
   "cell_type": "raw",
   "id": "76ce7601",
   "metadata": {},
   "source": [
    "Program.cs 檔"
   ]
  },
  {
   "cell_type": "code",
   "execution_count": null,
   "id": "28b4b2eb",
   "metadata": {},
   "outputs": [],
   "source": [
    "using ConsoleApp1;\n",
    "using System;\n",
    "\n",
    "Person person1 = new Person();\n",
    "person1.height = 170.5;\n",
    "person1.age = 42;\n",
    "person1.name = \"小黑\";\n",
    "person1.SayHi();\n",
    "person1.IsAdult();\n",
    "\n",
    "Person person2 = new Person();\n",
    "person2.height = 160.6;\n",
    "person2.age = 17;\n",
    "person2.name = \"小橘\";\n",
    "person2.SayHi();\n",
    "person2.IsAdult();"
   ]
  },
  {
   "cell_type": "markdown",
   "id": "fb8e00f0",
   "metadata": {},
   "source": [
    "### 有回傳值的寫法"
   ]
  },
  {
   "cell_type": "code",
   "execution_count": null,
   "id": "45f4d3f9",
   "metadata": {},
   "outputs": [],
   "source": [
    "Person.cs 檔"
   ]
  },
  {
   "cell_type": "code",
   "execution_count": null,
   "id": "53e48418",
   "metadata": {},
   "outputs": [],
   "source": [
    "using System;\n",
    "\n",
    "\n",
    "namespace ConsoleApp1\n",
    "{\n",
    "        class Person\n",
    "        {\n",
    "            public double height;\n",
    "            public int age;\n",
    "            public string name;\n",
    "\n",
    "            public void SayHi()\n",
    "            {\n",
    "                Console.WriteLine(\"妳好啊!我叫\" + name);\n",
    "            }\n",
    "\n",
    "            public bool IsAdult()\n",
    "            {\n",
    "                if (age >= 18)\n",
    "                {\n",
    "                    return true;\n",
    "                }\n",
    "                else\n",
    "                {\n",
    "                    return false;\n",
    "                }\n",
    "            }\n",
    "        }\n",
    "   \n",
    "}"
   ]
  },
  {
   "cell_type": "code",
   "execution_count": null,
   "id": "b90a9133",
   "metadata": {},
   "outputs": [],
   "source": [
    "Program.cs 檔"
   ]
  },
  {
   "cell_type": "code",
   "execution_count": null,
   "id": "06c29394",
   "metadata": {},
   "outputs": [],
   "source": [
    "using ConsoleApp1;\n",
    "using System;\n",
    "\n",
    "Person person1 = new Person();\n",
    "person1.height = 170.5;\n",
    "person1.age = 42;\n",
    "person1.name = \"小黑\";\n",
    "person1.SayHi();\n",
    "Console.WriteLine(person1.IsAdult());\n",
    "\n",
    "Person person2 = new Person();\n",
    "person2.height = 160.6;\n",
    "person2.age = 17;\n",
    "person2.name = \"小橘\";\n",
    "person1.SayHi();\n",
    "Console.WriteLine(person2.IsAdult());"
   ]
  },
  {
   "cell_type": "markdown",
   "id": "47ef22a6",
   "metadata": {},
   "source": [
    "### 方法有帶入參數"
   ]
  },
  {
   "cell_type": "raw",
   "id": "6bc90711",
   "metadata": {},
   "source": [
    "Person.cs 檔"
   ]
  },
  {
   "cell_type": "code",
   "execution_count": null,
   "id": "5cff0307",
   "metadata": {},
   "outputs": [],
   "source": [
    "using System;\n",
    "\n",
    "\n",
    "namespace ConsoleApp1\n",
    "{\n",
    "        class Person\n",
    "        {\n",
    "            public double height;\n",
    "            public int age;\n",
    "            public string name;\n",
    "\n",
    "            public void SayHi()\n",
    "            {\n",
    "                Console.WriteLine(\"妳好啊!我叫\" + name);\n",
    "            }\n",
    "\n",
    "            public bool IsAdult()\n",
    "            {\n",
    "                if (age >= 18)\n",
    "                {\n",
    "                    return true;\n",
    "                }\n",
    "                else\n",
    "                {\n",
    "                    return false;\n",
    "                }\n",
    "            }\n",
    "\n",
    "            public int Add(int num1, int num2)\n",
    "            {\n",
    "                return num1 + num2;\n",
    "            }\n",
    "        }\n",
    "   \n",
    "}\n"
   ]
  },
  {
   "cell_type": "raw",
   "id": "8fc9eb5c",
   "metadata": {},
   "source": [
    "Program.cs 檔"
   ]
  },
  {
   "cell_type": "code",
   "execution_count": null,
   "id": "e569cfed",
   "metadata": {},
   "outputs": [],
   "source": [
    "using ConsoleApp1;\n",
    "using System;\n",
    "\n",
    "Person person1 = new Person();\n",
    "person1.height = 170.5;\n",
    "person1.age = 42;\n",
    "person1.name = \"小黑\";\n",
    "person1.SayHi();\n",
    "Console.WriteLine(person1.IsAdult());\n",
    "Console.WriteLine(person1.Add(2, 3));\n",
    "\n",
    "Person person2 = new Person();\n",
    "person2.height = 160.6;\n",
    "person2.age = 17;\n",
    "person2.name = \"小橘\";\n",
    "person1.SayHi();\n",
    "Console.WriteLine(person2.IsAdult());"
   ]
  }
 ],
 "metadata": {
  "kernelspec": {
   "display_name": "Python 3",
   "language": "python",
   "name": "python3"
  },
  "language_info": {
   "codemirror_mode": {
    "name": "ipython",
    "version": 3
   },
   "file_extension": ".py",
   "mimetype": "text/x-python",
   "name": "python",
   "nbconvert_exporter": "python",
   "pygments_lexer": "ipython3",
   "version": "3.8.10"
  }
 },
 "nbformat": 4,
 "nbformat_minor": 5
}
