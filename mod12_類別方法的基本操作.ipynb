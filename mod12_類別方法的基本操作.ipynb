{
 "cells": [
  {
   "cell_type": "markdown",
   "id": "11c7e619",
   "metadata": {},
   "source": [
    "# 類別方法的基本操作"
   ]
  },
  {
   "cell_type": "raw",
   "id": "edad3061",
   "metadata": {},
   "source": [
    "Person.cs 檔"
   ]
  },
  {
   "cell_type": "code",
   "execution_count": null,
   "id": "a1a6f116",
   "metadata": {},
   "outputs": [],
   "source": [
    "using System;\n",
    "\n",
    "\n",
    "namespace ConsoleApp1\n",
    "{\n",
    "        class Person\n",
    "        {\n",
    "            public double height;\n",
    "            public int age;\n",
    "            public string name;\n",
    "\n",
    "            public void SayHi()\n",
    "            {\n",
    "                Console.WriteLine(\"妳好啊!我叫\" + name);\n",
    "            }\n",
    "\n",
    "            public void IsAdult()\n",
    "            {\n",
    "                if (age >= 18)\n",
    "                {\n",
    "                    Console.WriteLine(true);\n",
    "                }\n",
    "                else\n",
    "                {\n",
    "                    Console.WriteLine(false);\n",
    "                }\n",
    "            }\n",
    "        }\n",
    "   \n",
    "}"
   ]
  },
  {
   "cell_type": "raw",
   "id": "76ce7601",
   "metadata": {},
   "source": [
    "Program.cs 檔"
   ]
  },
  {
   "cell_type": "code",
   "execution_count": null,
   "id": "28b4b2eb",
   "metadata": {},
   "outputs": [],
   "source": [
    "using ConsoleApp1;\n",
    "using System;\n",
    "\n",
    "Person person1 = new Person();\n",
    "person1.height = 170.5;\n",
    "person1.age = 42;\n",
    "person1.name = \"小黑\";\n",
    "person1.SayHi();\n",
    "person1.IsAdult();\n",
    "\n",
    "Person person2 = new Person();\n",
    "person2.height = 160.6;\n",
    "person2.age = 17;\n",
    "person2.name = \"小橘\";\n",
    "person2.SayHi();\n",
    "person2.IsAdult();"
   ]
  },
  {
   "cell_type": "code",
   "execution_count": null,
   "id": "efb45c65",
   "metadata": {},
   "outputs": [],
   "source": []
  }
 ],
 "metadata": {
  "kernelspec": {
   "display_name": "Python 3",
   "language": "python",
   "name": "python3"
  },
  "language_info": {
   "codemirror_mode": {
    "name": "ipython",
    "version": 3
   },
   "file_extension": ".py",
   "mimetype": "text/x-python",
   "name": "python",
   "nbconvert_exporter": "python",
   "pygments_lexer": "ipython3",
   "version": "3.8.10"
  }
 },
 "nbformat": 4,
 "nbformat_minor": 5
}
