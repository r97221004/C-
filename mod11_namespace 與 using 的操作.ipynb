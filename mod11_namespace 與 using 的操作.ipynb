{
 "cells": [
  {
   "cell_type": "markdown",
   "id": "b117c70e",
   "metadata": {},
   "source": [
    "# namespace、using 的基本操作"
   ]
  },
  {
   "cell_type": "raw",
   "id": "acd728f3",
   "metadata": {},
   "source": [
    "Person.cs 檔"
   ]
  },
  {
   "cell_type": "code",
   "execution_count": null,
   "id": "62e43bf5",
   "metadata": {},
   "outputs": [],
   "source": [
    "namespace Animal\n",
    "{\n",
    "    namespace second\n",
    "    {\n",
    "        class Person\n",
    "        {\n",
    "            public double height;\n",
    "            public int age;\n",
    "            public string name;\n",
    "        }\n",
    "    }\n",
    "\n",
    "\n",
    "}"
   ]
  },
  {
   "cell_type": "raw",
   "id": "36616fd9",
   "metadata": {},
   "source": [
    "Program.cs 檔"
   ]
  },
  {
   "cell_type": "code",
   "execution_count": null,
   "id": "05dfc33b",
   "metadata": {},
   "outputs": [],
   "source": [
    "using Animal.second;\n",
    "using System;\n",
    "\n",
    "Person person1 = new Person();\n",
    "person1.height = 170.5;\n",
    "person1.age = 42;\n",
    "person1.name = \"小黑\";\n",
    "\n",
    "Person person2 = new Person();\n",
    "person2.height = 160.6;\n",
    "person2.age = 22;\n",
    "person2.name = \"小橘\";\n",
    "\n",
    "Console.WriteLine(person1.name);\n",
    "Console.WriteLine(person2.age);"
   ]
  }
 ],
 "metadata": {
  "kernelspec": {
   "display_name": "Python 3",
   "language": "python",
   "name": "python3"
  },
  "language_info": {
   "codemirror_mode": {
    "name": "ipython",
    "version": 3
   },
   "file_extension": ".py",
   "mimetype": "text/x-python",
   "name": "python",
   "nbconvert_exporter": "python",
   "pygments_lexer": "ipython3",
   "version": "3.8.10"
  }
 },
 "nbformat": 4,
 "nbformat_minor": 5
}
