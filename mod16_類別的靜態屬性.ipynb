{
 "cells": [
  {
   "cell_type": "markdown",
   "id": "efc38f19",
   "metadata": {},
   "source": [
    "# static attributes 的基本操作"
   ]
  },
  {
   "cell_type": "raw",
   "id": "595783b4",
   "metadata": {},
   "source": [
    "靜態屬性是類別本身所擁有，如果用物件是存取不到靜態屬性的。"
   ]
  },
  {
   "cell_type": "raw",
   "id": "ba0c423a",
   "metadata": {},
   "source": [
    "要存取靜態屬性要用類別本身存取。"
   ]
  },
  {
   "cell_type": "raw",
   "id": "9b618771",
   "metadata": {},
   "source": [
    "Video.cs 檔"
   ]
  },
  {
   "cell_type": "code",
   "execution_count": null,
   "id": "42fa4b25",
   "metadata": {},
   "outputs": [],
   "source": [
    "namespace ConsoleApp1\n",
    "{\n",
    "    class Video\n",
    "    {\n",
    "        public string title;\n",
    "        public string author;\n",
    "        public string type;\n",
    "        public static int video_count = 0;\n",
    "\n",
    "        public Video(string title, string author, string type)\n",
    "        {\n",
    "            this.title = title;\n",
    "            this.author = author;\n",
    "            this.type = type;\n",
    "            video_count += 1;\n",
    "        }\n",
    "\n",
    "    }\n",
    "}"
   ]
  },
  {
   "cell_type": "raw",
   "id": "c0aae8e5",
   "metadata": {},
   "source": [
    "Program.cs 檔"
   ]
  },
  {
   "cell_type": "code",
   "execution_count": null,
   "id": "afedd34e",
   "metadata": {},
   "outputs": [],
   "source": [
    "using ConsoleApp1;\n",
    "using System;\n",
    "\n",
    "\n",
    "Video video1 = new Video(\"敢愛就來\", \"Matt\", \"愛情片\");\n",
    "Video video2 = new Video(\"接觸未來\", \"Alice\", \"教育\");\n",
    "\n",
    "Console.WriteLine(video1.type);\n",
    "Console.WriteLine(Video.video_count);"
   ]
  },
  {
   "cell_type": "markdown",
   "id": "78ce0ede",
   "metadata": {},
   "source": [
    "---"
   ]
  },
  {
   "cell_type": "raw",
   "id": "cb0f90ba",
   "metadata": {},
   "source": [
    "如果硬要用物件來存取屬性 video_count，可以再多增加一個類別方法。"
   ]
  },
  {
   "cell_type": "raw",
   "id": "7f902f92",
   "metadata": {},
   "source": [
    "Video.cs 檔"
   ]
  },
  {
   "cell_type": "code",
   "execution_count": null,
   "id": "0bcbdbd1",
   "metadata": {},
   "outputs": [],
   "source": [
    "namespace ConsoleApp1\n",
    "{\n",
    "    class Video\n",
    "    {\n",
    "        public string title;\n",
    "        public string author;\n",
    "        public string type;\n",
    "        public static int video_count = 0;\n",
    "\n",
    "        public Video(string title, string author, string type)\n",
    "        {\n",
    "            this.title = title;\n",
    "            this.author = author;\n",
    "            this.type = type;\n",
    "            video_count += 1;\n",
    "        }\n",
    "\n",
    "        public int get_video_count()\n",
    "        {\n",
    "            return video_count;\n",
    "        }\n",
    "\n",
    "    }\n",
    "}"
   ]
  },
  {
   "cell_type": "raw",
   "id": "a0954b84",
   "metadata": {},
   "source": [
    "Program.cs 檔"
   ]
  },
  {
   "cell_type": "code",
   "execution_count": null,
   "id": "e79ed271",
   "metadata": {},
   "outputs": [],
   "source": [
    "using ConsoleApp1;\n",
    "using System;\n",
    "\n",
    "\n",
    "Video video1 = new Video(\"敢愛就來\", \"Matt\", \"愛情片\");\n",
    "Video video2 = new Video(\"接觸未來\", \"Alice\", \"教育\");\n",
    "\n",
    "Console.WriteLine(video1.type);\n",
    "Console.WriteLine(video1.get_video_count());"
   ]
  }
 ],
 "metadata": {
  "kernelspec": {
   "display_name": "Python 3",
   "language": "python",
   "name": "python3"
  },
  "language_info": {
   "codemirror_mode": {
    "name": "ipython",
    "version": 3
   },
   "file_extension": ".py",
   "mimetype": "text/x-python",
   "name": "python",
   "nbconvert_exporter": "python",
   "pygments_lexer": "ipython3",
   "version": "3.8.10"
  }
 },
 "nbformat": 4,
 "nbformat_minor": 5
}
