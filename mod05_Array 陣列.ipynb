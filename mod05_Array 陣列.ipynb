{
 "cells": [
  {
   "cell_type": "markdown",
   "id": "8cd077ad",
   "metadata": {},
   "source": [
    "# Array 陣列"
   ]
  },
  {
   "cell_type": "markdown",
   "id": "a09dfe9c",
   "metadata": {},
   "source": [
    "### 創建陣列的第一種方式"
   ]
  },
  {
   "cell_type": "code",
   "execution_count": null,
   "id": "89ead083",
   "metadata": {},
   "outputs": [],
   "source": [
    "int[] scores = { 50, 60, 70, 30, 20 };\n",
    "scores[0] = 60;\n",
    "\n",
    "System.Console.WriteLine(scores[0]);\n",
    "System.Console.WriteLine(scores[1]);\n",
    "System.Console.WriteLine(scores[2]);\n",
    "System.Console.WriteLine(scores[3]);\n",
    "System.Console.WriteLine(scores[4]);"
   ]
  },
  {
   "cell_type": "markdown",
   "id": "719ea457",
   "metadata": {},
   "source": [
    "### 創建陣列的第二種方式，要設定裡面可以放幾個值。"
   ]
  },
  {
   "cell_type": "code",
   "execution_count": null,
   "id": "d888f622",
   "metadata": {},
   "outputs": [],
   "source": [
    "string[] phones = new string[10];\n",
    "\n",
    "phones[0] = \"0123456789\";\n",
    "phones[1] = \"0888888888\";\n",
    "\n",
    "System.Console.WriteLine(phones[0]);\n",
    "System.Console.WriteLine(phones[1]);"
   ]
  }
 ],
 "metadata": {
  "kernelspec": {
   "display_name": "Python 3",
   "language": "python",
   "name": "python3"
  },
  "language_info": {
   "codemirror_mode": {
    "name": "ipython",
    "version": 3
   },
   "file_extension": ".py",
   "mimetype": "text/x-python",
   "name": "python",
   "nbconvert_exporter": "python",
   "pygments_lexer": "ipython3",
   "version": "3.8.10"
  }
 },
 "nbformat": 4,
 "nbformat_minor": 5
}
