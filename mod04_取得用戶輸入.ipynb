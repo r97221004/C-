{
 "cells": [
  {
   "cell_type": "markdown",
   "id": "a0488bad",
   "metadata": {},
   "source": [
    "# 取得用戶輸入"
   ]
  },
  {
   "cell_type": "raw",
   "id": "d115d21e",
   "metadata": {},
   "source": [
    "WriteLine 會自動換行，Write 不會換行。"
   ]
  },
  {
   "cell_type": "code",
   "execution_count": null,
   "id": "6c9b040e",
   "metadata": {},
   "outputs": [],
   "source": [
    "System.Console.Write(\"請輸入您的名字: \");\n",
    "string name = System.Console.ReadLine();\n",
    "System.Console.Write(\"請輸入您的年紀: \");\n",
    "string age = System.Console.ReadLine();\n",
    "System.Console.WriteLine(\"妳好啊\" +  name + \"妳今年\" + age + \"歲\");  "
   ]
  },
  {
   "cell_type": "markdown",
   "id": "fc4850a0",
   "metadata": {},
   "source": [
    "### 範例01: 整數計算"
   ]
  },
  {
   "cell_type": "raw",
   "id": "a4104f7d",
   "metadata": {},
   "source": [
    "注意輸入小數會出錯。"
   ]
  },
  {
   "cell_type": "code",
   "execution_count": null,
   "id": "e3af06e4",
   "metadata": {},
   "outputs": [],
   "source": [
    "System.Console.Write(\"請輸入第一個數: \");\n",
    "int num1 = System.Convert.ToInt32(System.Console.ReadLine());\n",
    "System.Console.Write(\"請輸入第二個數: \");\n",
    "int num2 = System.Convert.ToInt32(System.Console.ReadLine());\n",
    "System.Console.WriteLine(num1 + num2);"
   ]
  },
  {
   "cell_type": "markdown",
   "id": "c0cbb581",
   "metadata": {},
   "source": [
    "### 範例02: 小數計算"
   ]
  },
  {
   "cell_type": "code",
   "execution_count": null,
   "id": "8517ae85",
   "metadata": {},
   "outputs": [],
   "source": [
    "System.Console.Write(\"請輸入第一個數: \");\n",
    "Double num1 = System.Convert.ToDouble(System.Console.ReadLine());\n",
    "System.Console.Write(\"請輸入第二個數: \");\n",
    "Double num2 = System.Convert.ToDouble(System.Console.ReadLine());\n",
    "System.Console.WriteLine(num1 + num2);"
   ]
  }
 ],
 "metadata": {
  "kernelspec": {
   "display_name": "Python 3",
   "language": "python",
   "name": "python3"
  },
  "language_info": {
   "codemirror_mode": {
    "name": "ipython",
    "version": 3
   },
   "file_extension": ".py",
   "mimetype": "text/x-python",
   "name": "python",
   "nbconvert_exporter": "python",
   "pygments_lexer": "ipython3",
   "version": "3.8.10"
  }
 },
 "nbformat": 4,
 "nbformat_minor": 5
}
