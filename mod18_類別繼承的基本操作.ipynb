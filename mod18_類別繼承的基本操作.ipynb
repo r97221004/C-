{
 "cells": [
  {
   "cell_type": "markdown",
   "id": "1764066b",
   "metadata": {},
   "source": [
    "# 類別的繼承"
   ]
  },
  {
   "cell_type": "raw",
   "id": "fb6cb6c8",
   "metadata": {},
   "source": [
    "因為 student 也是 person，所以方法跟屬性會重複，這時候我們就可以使用類別的繼承。"
   ]
  },
  {
   "cell_type": "raw",
   "id": "9717c2d7",
   "metadata": {},
   "source": [
    "Person.cs 檔"
   ]
  },
  {
   "cell_type": "code",
   "execution_count": null,
   "id": "9971a361",
   "metadata": {},
   "outputs": [],
   "source": [
    "using System;\n",
    "\n",
    "\n",
    "namespace ConsoleApp1\n",
    "{\n",
    "        class Person\n",
    "        {\n",
    "       \n",
    "            public int age;\n",
    "            public string name;\n",
    "\n",
    "            public void get_age()\n",
    "            {\n",
    "                Console.WriteLine(this.age);\n",
    "            }\n",
    "\n",
    "            public void get_name()\n",
    "            {\n",
    "                Console.WriteLine(this.name);\n",
    "            }\n",
    "\n",
    "\n",
    "        }\n",
    "   \n",
    "}"
   ]
  },
  {
   "cell_type": "raw",
   "id": "8d2647cd",
   "metadata": {},
   "source": [
    "Student.cs 檔"
   ]
  },
  {
   "cell_type": "code",
   "execution_count": null,
   "id": "84ccf2ca",
   "metadata": {},
   "outputs": [],
   "source": [
    "using System;\n",
    "\n",
    "\n",
    "namespace ConsoleApp1\n",
    "{\n",
    "    class Student : Person\n",
    "    {\n",
    "\n",
    "        public string school;\n",
    "\n",
    "        public Student(string name, int age, string school)\n",
    "        {\n",
    "            this.name = name;\n",
    "            this.age = age;\n",
    "            this.school = school;\n",
    "        }\n",
    "\n",
    "        public void get_school() \n",
    "        {\n",
    "            Console.WriteLine(this.school);\n",
    "        }\n",
    "    }\n",
    "}"
   ]
  },
  {
   "cell_type": "raw",
   "id": "f191586e",
   "metadata": {},
   "source": [
    "Program.cs 檔"
   ]
  },
  {
   "cell_type": "code",
   "execution_count": null,
   "id": "04684556",
   "metadata": {},
   "outputs": [],
   "source": [
    "using ConsoleApp1;\n",
    "\n",
    "Student student = new Student(\"Matt\", 36, \"NTU\");\n",
    "\n",
    "Console.WriteLine(student.name);\n",
    "Console.WriteLine(student.age);\n",
    "Console.WriteLine(student.school);\n",
    "student.get_name();\n",
    "student.get_age();"
   ]
  }
 ],
 "metadata": {
  "kernelspec": {
   "display_name": "Python 3",
   "language": "python",
   "name": "python3"
  },
  "language_info": {
   "codemirror_mode": {
    "name": "ipython",
    "version": 3
   },
   "file_extension": ".py",
   "mimetype": "text/x-python",
   "name": "python",
   "nbconvert_exporter": "python",
   "pygments_lexer": "ipython3",
   "version": "3.8.10"
  }
 },
 "nbformat": 4,
 "nbformat_minor": 5
}
