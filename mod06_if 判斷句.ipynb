{
 "cells": [
  {
   "cell_type": "markdown",
   "id": "f1314c0d",
   "metadata": {},
   "source": [
    "# if 判斷句"
   ]
  },
  {
   "cell_type": "raw",
   "id": "ecfb7b8e",
   "metadata": {},
   "source": [
    "如果我肚子餓，我就去吃飯。"
   ]
  },
  {
   "cell_type": "code",
   "execution_count": null,
   "id": "58106957",
   "metadata": {},
   "outputs": [],
   "source": [
    "bool hungry = true;\n",
    "\n",
    "if (hungry)\n",
    "{\n",
    "    System.Console.WriteLine(\"我就去吃飯\");\n",
    "}"
   ]
  },
  {
   "cell_type": "raw",
   "id": "ad09e239",
   "metadata": {},
   "source": [
    "如果今天下雨我就開車去上班，否則我就走路去上班。"
   ]
  },
  {
   "cell_type": "code",
   "execution_count": null,
   "id": "a1645935",
   "metadata": {},
   "outputs": [],
   "source": [
    "bool rainy = true;\n",
    "\n",
    "if (rainy)\n",
    "{\n",
    "    System.Console.WriteLine(\"我就開車去上班\");\n",
    "}\n",
    "else\n",
    "{\n",
    "    System.Console.WriteLine(\"我就走路去上班\");\n",
    "}"
   ]
  },
  {
   "cell_type": "raw",
   "id": "cd6991c8",
   "metadata": {},
   "source": [
    "如果妳考 100 分，我給妳 1000 元，或是如果妳考 80 以上，我給妳 500 元，或是如果妳考 60 以上，我給妳 100 元，否則妳給我 300 元。"
   ]
  },
  {
   "cell_type": "code",
   "execution_count": null,
   "id": "4e7987f0",
   "metadata": {},
   "outputs": [],
   "source": [
    "int score = 100;\n",
    "\n",
    "if (score == 100)\n",
    "{\n",
    "    System.Console.WriteLine(\"我給妳 1000 元\");\n",
    "}\n",
    "else if (score >= 80)\n",
    "{\n",
    "    System.Console.WriteLine(\"我給妳 500 元\");\n",
    "}\n",
    "else if (score >= 60)\n",
    "{\n",
    "    System.Console.WriteLine(\"我給妳 100 元\");\n",
    "}\n",
    "else\n",
    "{\n",
    "    System.Console.WriteLine(\"妳給我 300 元\");\n",
    "}"
   ]
  },
  {
   "cell_type": "raw",
   "id": "51dd946d",
   "metadata": {},
   "source": [
    "如果妳考 100 分且今天有下雨，我給妳 1000 元，否則妳給我 100 元 "
   ]
  },
  {
   "cell_type": "code",
   "execution_count": null,
   "id": "ced2c2e3",
   "metadata": {},
   "outputs": [],
   "source": [
    "int score = 100;\n",
    "bool rainy = true;\n",
    "\n",
    "if (score == 100 && rainy)\n",
    "{\n",
    "    System.Console.WriteLine(\"我給妳 1000 元\");\n",
    "}\n",
    "else\n",
    "{\n",
    "    System.Console.WriteLine(\"妳給我 100 元\");\n",
    "}"
   ]
  },
  {
   "cell_type": "raw",
   "id": "6b14fff5",
   "metadata": {},
   "source": [
    "如果妳考 100 分或今天有下雨，我給妳 1000 元，否則妳給我 100 元 "
   ]
  },
  {
   "cell_type": "code",
   "execution_count": null,
   "id": "3cf56c4a",
   "metadata": {},
   "outputs": [],
   "source": [
    "int score = 100;\n",
    "bool rainy = true;\n",
    "\n",
    "if (score == 100 || rainy)\n",
    "{\n",
    "    System.Console.WriteLine(\"我給妳 1000 元\");\n",
    "}\n",
    "else\n",
    "{\n",
    "    System.Console.WriteLine(\"妳給我 100 元\");\n",
    "}"
   ]
  },
  {
   "cell_type": "raw",
   "id": "a9d27e2a",
   "metadata": {},
   "source": [
    "如果妳沒有考 100 分或今天沒有下雨，我給妳 1000 元，否則妳給我 100 元 "
   ]
  },
  {
   "cell_type": "code",
   "execution_count": null,
   "id": "1d697635",
   "metadata": {},
   "outputs": [],
   "source": [
    "int score = 100;\n",
    "bool rainy = true;\n",
    "\n",
    "if (score != 100 || !rainy)\n",
    "{\n",
    "    System.Console.WriteLine(\"我給妳 1000 元\");\n",
    "}\n",
    "else\n",
    "{\n",
    "    System.Console.WriteLine(\"妳給我 100 元\");\n",
    "}"
   ]
  },
  {
   "cell_type": "markdown",
   "id": "ead51645",
   "metadata": {},
   "source": [
    "### 範例01: 進階計算機"
   ]
  },
  {
   "cell_type": "code",
   "execution_count": null,
   "id": "9d6a3cfb",
   "metadata": {},
   "outputs": [],
   "source": [
    "System.Console.Write(\"請輸入第一個數: \");\n",
    "double num1 = System.Convert.ToDouble((System.Console.ReadLine()));\n",
    "\n",
    "System.Console.Write(\"請輸入計算符號: \");\n",
    "string oper = System.Console.ReadLine();\n",
    "\n",
    "System.Console.Write(\"請輸入第二個數: \");\n",
    "double num2 = System.Convert.ToDouble((System.Console.ReadLine()));\n",
    "\n",
    "if (oper == \"+\")\n",
    "{\n",
    "    System.Console.WriteLine(num1 + num2);\n",
    "}\n",
    "else if (oper == \"-\")\n",
    "{\n",
    "    System.Console.WriteLine(num1 - num2);\n",
    "}\n",
    "else if (oper == \"*\")\n",
    "{\n",
    "    System.Console.WriteLine(num1 * num2);\n",
    "}\n",
    "else if (oper == \"/\")\n",
    "{\n",
    "    System.Console.WriteLine(num1 / num2);\n",
    "}\n",
    "else\n",
    "{\n",
    "    System.Console.WriteLine(\"輸入計算符號有誤!\");\n",
    "}"
   ]
  }
 ],
 "metadata": {
  "kernelspec": {
   "display_name": "Python 3",
   "language": "python",
   "name": "python3"
  },
  "language_info": {
   "codemirror_mode": {
    "name": "ipython",
    "version": 3
   },
   "file_extension": ".py",
   "mimetype": "text/x-python",
   "name": "python",
   "nbconvert_exporter": "python",
   "pygments_lexer": "ipython3",
   "version": "3.8.10"
  }
 },
 "nbformat": 4,
 "nbformat_minor": 5
}
