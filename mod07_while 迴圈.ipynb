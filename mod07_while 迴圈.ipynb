{
 "cells": [
  {
   "cell_type": "markdown",
   "id": "88d9fd0f",
   "metadata": {},
   "source": [
    "# While 迴圈"
   ]
  },
  {
   "cell_type": "markdown",
   "id": "d3294d82",
   "metadata": {},
   "source": [
    "### 第一種寫法: 先判斷再執行"
   ]
  },
  {
   "cell_type": "code",
   "execution_count": null,
   "id": "1026080e",
   "metadata": {},
   "outputs": [],
   "source": [
    "int num = 1;\n",
    "\n",
    "while (num<=5)\n",
    "{\n",
    "    System.Console.WriteLine(num);\n",
    "    num += 1;\n",
    "}"
   ]
  },
  {
   "cell_type": "markdown",
   "id": "463f4e80",
   "metadata": {},
   "source": [
    "### 第二種寫法: 先執行再判斷"
   ]
  },
  {
   "cell_type": "code",
   "execution_count": null,
   "id": "44072d6d",
   "metadata": {},
   "outputs": [],
   "source": [
    "int num = 6;\n",
    "\n",
    "do\n",
    "{\n",
    "    System.Console.WriteLine(num);\n",
    "    num++;\n",
    "}\n",
    "while (num <= 5);"
   ]
  },
  {
   "cell_type": "markdown",
   "id": "dfae75b6",
   "metadata": {},
   "source": [
    "### 範例01: 猜數字遊戲"
   ]
  },
  {
   "cell_type": "code",
   "execution_count": null,
   "id": "491d9a1a",
   "metadata": {},
   "outputs": [],
   "source": [
    "int secret_num = 66;\n",
    "int guess;\n",
    "int guess_count = 0;\n",
    "int guess_limit = 3;\n",
    "bool win = false;\n",
    "\n",
    "do\n",
    "{\n",
    "    System.Console.Write(\"請輸入猜測: \");\n",
    "    guess = System.Convert.ToInt32((System.Console.ReadLine()));\n",
    "    guess_count++;\n",
    "\n",
    "    if (guess > secret_num)\n",
    "    {\n",
    "        System.Console.WriteLine(\"小一點\");\n",
    "    }\n",
    "    else if (guess < secret_num)\n",
    "    {\n",
    "        System.Console.WriteLine(\"大一點\");\n",
    "    }\n",
    "    else\n",
    "    {\n",
    "        System.Console.WriteLine(\"恭喜你答對了阿!!!\");\n",
    "        win = true;\n",
    "    }\n",
    "} while (guess != secret_num && guess_count < guess_limit);\n",
    "\n",
    "\n",
    "if (!win)\n",
    "{\n",
    "    System.Console.WriteLine(\"抱歉妳輸了!!!\");\n",
    "}"
   ]
  }
 ],
 "metadata": {
  "kernelspec": {
   "display_name": "Python 3",
   "language": "python",
   "name": "python3"
  },
  "language_info": {
   "codemirror_mode": {
    "name": "ipython",
    "version": 3
   },
   "file_extension": ".py",
   "mimetype": "text/x-python",
   "name": "python",
   "nbconvert_exporter": "python",
   "pygments_lexer": "ipython3",
   "version": "3.8.10"
  }
 },
 "nbformat": 4,
 "nbformat_minor": 5
}
