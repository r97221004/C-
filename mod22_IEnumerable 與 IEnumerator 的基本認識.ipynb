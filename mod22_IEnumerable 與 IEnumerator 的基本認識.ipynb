{
 "cells": [
  {
   "cell_type": "markdown",
   "id": "d33eca5b",
   "metadata": {},
   "source": [
    "# 簡介"
   ]
  },
  {
   "cell_type": "raw",
   "id": "cf577daa",
   "metadata": {},
   "source": [
    "在寫程式上，我們常會使用到許多資料結構，如串列 (List)、HashTable (C# 下的 Dicationay)、堆疊 (Stack)、樹 (Tree)，僅管這些資料結構在內部實作與外部使用的界面上，各有不同，但基本上我們都會希望這些資料結構，能提供有巡訪 (Traverse) 資料的能力。\n",
    "\n",
    "所謂的巡訪，就是逐一走過資料結構下，內含的所有的資料元素 (Element) 或節點 (Node)，當然在不同的資料結構上，依照內部實作不同，巡訪的演算法也會各有不同。\n",
    "\n",
    "舉例來說，串列的巡訪，基本上就是從串列的第一個節點資料，走到最後一個節點去，比較單純。而以樹狀結構來說，就有不少巡訪方式的變形，比如說前序巡訪 (Preorder)，後序巡訪 (Postorder) 等， 如下圖所示︰"
   ]
  },
  {
   "cell_type": "markdown",
   "id": "25c43d5c",
   "metadata": {},
   "source": [
    "<img src='img/1.png'>"
   ]
  },
  {
   "cell_type": "raw",
   "id": "70317682",
   "metadata": {},
   "source": [
    ".Net 透過 IEnumerable、IEnumerator 這兩個界面 (interface)，與它們的泛型版本︰IEnumerable<T>、IEnumerator<T>，來提供資料結構這樣的巡訪能力。事實上整個 .Net 集合 (Collection) 的界面，處在上層的就是 IEnumerable、IEnumerable<T> 與 IEnumerator、IEnumerator<T> 4 個界面。\n",
    "\n",
    "我們可以看看下面這張，從 C# 4.0 in Nutshell 書中節錄出來的整理圖，再回頭比對 MSDN 文件︰"
   ]
  },
  {
   "cell_type": "markdown",
   "id": "635bd679",
   "metadata": {},
   "source": [
    "<img src='img/2.png'>"
   ]
  },
  {
   "cell_type": "raw",
   "id": "58d6614d",
   "metadata": {},
   "source": [
    "由圖中我們可以理解，在 .Net 集合中常用的界面 (ICollection、IList、IDictionary)，都有繼承 IEnumerable 或是 IEnumerable<T>，也因此實作這些界面的集合，也才會都具備資料巡訪的能力。"
   ]
  },
  {
   "cell_type": "markdown",
   "id": "cd9561d2",
   "metadata": {},
   "source": [
    "# IEnumerable 可枚舉類型　　"
   ]
  },
  {
   "cell_type": "raw",
   "id": "8911f1b5",
   "metadata": {},
   "source": [
    "- IEnumerable 可枚舉類型\n",
    "- IEnumerator 枚舉器\n",
    "- Enum 枚舉"
   ]
  },
  {
   "cell_type": "raw",
   "id": "2a0486f4",
   "metadata": {},
   "source": [
    "陣列的資料型態是可以使用 foreach 進行遍歷的。字串也是可以的，整數型態很明顯不行。\n",
    "自定義的類也是不行的。所以下面的自定義類 Student 會操作失敗。"
   ]
  },
  {
   "cell_type": "raw",
   "id": "a2b98af9",
   "metadata": {},
   "source": [
    "IEnumerableShow.cs 檔"
   ]
  },
  {
   "cell_type": "code",
   "execution_count": null,
   "id": "36895de2",
   "metadata": {},
   "outputs": [],
   "source": [
    "using System.Collections.Generic;\n",
    "using System.Linq;\n",
    "using System.Text;\n",
    "using System.Threading.Tasks;\n",
    "\n",
    "namespace ConsoleApp2\n",
    "{\n",
    "    public class IEnumerableShow\n",
    "    {\n",
    "        public void show() \n",
    "        {\n",
    "            //int[] array = {1, 2, 3, 4, 5};\n",
    "            //int 5;\n",
    "            //string my_str = \"Matt 的筆記\"\n",
    "            Student student = new Student();\n",
    "            foreach (var i in student) \n",
    "            {\n",
    "                Console.WriteLine(i);\n",
    "            }\n",
    "        }\n",
    "    \n",
    "        \n",
    "        public class Student \n",
    "        {\n",
    "            public int Id { get; set; };\n",
    "        }\n",
    "    }\n",
    "}\n"
   ]
  },
  {
   "cell_type": "raw",
   "id": "fa129812",
   "metadata": {},
   "source": [
    "Program.cs 檔"
   ]
  },
  {
   "cell_type": "code",
   "execution_count": null,
   "id": "6bba5fd1",
   "metadata": {},
   "outputs": [],
   "source": [
    "using ConsoleApp2;\n",
    "\n",
    "\n",
    "class Program\n",
    "{\n",
    "\n",
    "    static void Main()\n",
    "    {\n",
    "        IEnumerableShow enumerableShow = new IEnumerableShow();\n",
    "        enumerableShow.show();\n",
    "    }\n",
    "\n",
    "}"
   ]
  },
  {
   "cell_type": "markdown",
   "id": "6f2c4f4f",
   "metadata": {},
   "source": [
    "# 如何讓自定義的類可以遍歷"
   ]
  },
  {
   "cell_type": "raw",
   "id": "f639ebf9",
   "metadata": {},
   "source": [
    "只要一個類別實現了 IEnumerable 接口，我們就可以對它進行遍歷。\n",
    "注意方法 GetEnumerator() 返回了 IEnumerator 枚舉器。\n",
    "使用關鍵字 yield，關鍵字 yield 幫我們實現了 IEnumerator 對象。"
   ]
  },
  {
   "cell_type": "raw",
   "id": "c38910f1",
   "metadata": {},
   "source": [
    "IEnumerableShow.cs 檔"
   ]
  },
  {
   "cell_type": "code",
   "execution_count": null,
   "id": "c1ab3c5c",
   "metadata": {},
   "outputs": [],
   "source": [
    "using System.Collections;\n",
    "\n",
    "\n",
    "namespace ConsoleApp2\n",
    "{\n",
    "    public class IEnumerableShow\n",
    "    {\n",
    "        public void show() \n",
    "        {\n",
    "   \n",
    "            Student student = new Student();\n",
    "            foreach (var i in student ) \n",
    "            {\n",
    "                Console.WriteLine(i);\n",
    "            }\n",
    "        }\n",
    "    }\n",
    "\n",
    "    public class Student : IEnumerable\n",
    "    {\n",
    "\n",
    "        public IEnumerator GetEnumerator()\n",
    "        {\n",
    "            yield return \"Alice\";\n",
    "            yield return \"Matt\";\n",
    "            yield return \"Peter\";\n",
    "        }\n",
    "    }\n",
    "\n",
    "\n",
    "}"
   ]
  },
  {
   "cell_type": "raw",
   "id": "1963a734",
   "metadata": {},
   "source": [
    "Program.cs 檔"
   ]
  },
  {
   "cell_type": "code",
   "execution_count": null,
   "id": "a09ae932",
   "metadata": {},
   "outputs": [],
   "source": [
    "using ConsoleApp2;\n",
    "\n",
    "class Program\n",
    "{\n",
    "\n",
    "    static void Main()\n",
    "    {\n",
    "        IEnumerableShow enumerableShow = new IEnumerableShow();\n",
    "        enumerableShow.show();\n",
    "    }\n",
    "\n",
    "}"
   ]
  },
  {
   "cell_type": "markdown",
   "id": "cf66b8ea",
   "metadata": {},
   "source": [
    "# 實現 IEnumerator"
   ]
  },
  {
   "cell_type": "raw",
   "id": "6c445bc8",
   "metadata": {},
   "source": [
    "目標自己實現枚舉器，不使用關鍵字 yield。"
   ]
  },
  {
   "cell_type": "raw",
   "id": "2dc238a6",
   "metadata": {},
   "source": [
    "IEnumrator.cs 檔"
   ]
  },
  {
   "cell_type": "code",
   "execution_count": null,
   "id": "fb155663",
   "metadata": {},
   "outputs": [],
   "source": [
    "using System.Collections;\n",
    "\n",
    "\n",
    "namespace ConsoleApp2\n",
    "{\n",
    "    public class IEnumerableShow\n",
    "    {\n",
    "        public void show() \n",
    "        {\n",
    "   \n",
    "            Student student = new Student();\n",
    "            foreach (var i in student ) \n",
    "            {\n",
    "                Console.WriteLine(i);\n",
    "            }\n",
    "        }\n",
    "    }\n",
    "\n",
    "    public class Student : IEnumerable\n",
    "    {\n",
    "        \n",
    "\n",
    "        public IEnumerator GetEnumerator()\n",
    "        {\n",
    "  \n",
    "            string[] student = { \"Alice\", \"Matt\", \"Peter\" };\n",
    "            return new StudentEnumerator(student);\n",
    "        }\n",
    "    }\n",
    "\n",
    "    internal class StudentEnumerator : IEnumerator\n",
    "    {\n",
    "        string[] _student;\n",
    "        int _position = -1;\n",
    "\n",
    "        public StudentEnumerator(string[] student)\n",
    "        {\n",
    "            this._student = student;\n",
    "        }\n",
    "\n",
    "        // 現在的取值\n",
    "        public object IEnumerator.Current \n",
    "        {\n",
    "            get \n",
    "            {\n",
    "                if (_position == -1) \n",
    "                {\n",
    "                    throw new InvalidOperationException();\n",
    "                }\n",
    "                if (_position >= _student.Length)\n",
    "                {\n",
    "                    throw new InvalidOperationException();\n",
    "                }\n",
    "                return _student[_position];\n",
    "            }\n",
    "        }\n",
    "\n",
    "        // 讓我們把操作推進到下一個\n",
    "        public bool MoveNext()\n",
    "        {\n",
    "            if (_position < _student.Length)\n",
    "            {\n",
    "                _position++;\n",
    "                return true;\n",
    "            }\n",
    "            else \n",
    "            {\n",
    "                return false;\n",
    "            }\n",
    "        }\n",
    "\n",
    "        public void Reset()\n",
    "        {\n",
    "            _position = -1;\n",
    "        }\n",
    "    }\n",
    "}\n"
   ]
  },
  {
   "cell_type": "raw",
   "id": "551cbe25",
   "metadata": {},
   "source": [
    "Program.cs 檔"
   ]
  },
  {
   "cell_type": "code",
   "execution_count": null,
   "id": "c98b5d22",
   "metadata": {},
   "outputs": [],
   "source": [
    "using ConsoleApp2;\n",
    "\n",
    "\n",
    "class Program\n",
    "{\n",
    "\n",
    "    static void Main()\n",
    "    {\n",
    "        IEnumerableShow enumerableShow = new IEnumerableShow();\n",
    "        enumerableShow.show();\n",
    "    }\n",
    "\n",
    "}"
   ]
  }
 ],
 "metadata": {
  "kernelspec": {
   "display_name": "Python 3",
   "language": "python",
   "name": "python3"
  },
  "language_info": {
   "codemirror_mode": {
    "name": "ipython",
    "version": 3
   },
   "file_extension": ".py",
   "mimetype": "text/x-python",
   "name": "python",
   "nbconvert_exporter": "python",
   "pygments_lexer": "ipython3",
   "version": "3.8.10"
  }
 },
 "nbformat": 4,
 "nbformat_minor": 5
}
