{
 "cells": [
  {
   "cell_type": "markdown",
   "id": "999ded19",
   "metadata": {},
   "source": [
    "參考文章: https://www.w3cschool.cn/csharp/csharp-86c42por.html"
   ]
  },
  {
   "cell_type": "markdown",
   "id": "d945b49a",
   "metadata": {},
   "source": [
    "# Dictionary 的用法"
   ]
  },
  {
   "cell_type": "raw",
   "id": "c79eea70",
   "metadata": {},
   "source": [
    "在 C# 中，Dictionary 的主要用途是提供快速的基於鍵值的元素查找。Dictionary 的結構一般是這樣的：\n",
    "\n",
    "Dictionary<[key], [value]> \n",
    "\n",
    "它包含在 System.Collections.Generic 命名空間中。在使用 Dictionary 前，你必須對它的鍵類型和值類型進行聲明。 "
   ]
  },
  {
   "cell_type": "markdown",
   "id": "4c67b84b",
   "metadata": {},
   "source": [
    "# Dictionary 的描述"
   ]
  },
  {
   "cell_type": "raw",
   "id": "402853c0",
   "metadata": {},
   "source": [
    "- 從一組鍵（Key）到一組值（Value）的映射，每一個添加項都是由一個值及其相關連的鍵組成\n",
    "- 任何鍵都必須是唯一的\n",
    "- 鍵不能為空引用 null，若值為引用類型，則可以為空值\n",
    "- Key 和 Value 可以是任何類型（string，int，custom class 等）\n",
    "- Dictionary 常用用法：以 key 的類型為 int , value 的類型為 string 為例"
   ]
  },
  {
   "cell_type": "code",
   "execution_count": null,
   "id": "5046eec2",
   "metadata": {},
   "outputs": [],
   "source": []
  }
 ],
 "metadata": {
  "kernelspec": {
   "display_name": "Python 3",
   "language": "python",
   "name": "python3"
  },
  "language_info": {
   "codemirror_mode": {
    "name": "ipython",
    "version": 3
   },
   "file_extension": ".py",
   "mimetype": "text/x-python",
   "name": "python",
   "nbconvert_exporter": "python",
   "pygments_lexer": "ipython3",
   "version": "3.8.10"
  }
 },
 "nbformat": 4,
 "nbformat_minor": 5
}
