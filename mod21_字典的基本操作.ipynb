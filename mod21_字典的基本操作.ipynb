{
 "cells": [
  {
   "cell_type": "markdown",
   "id": "999ded19",
   "metadata": {},
   "source": [
    "參考文章: https://www.w3cschool.cn/csharp/csharp-86c42por.html"
   ]
  },
  {
   "cell_type": "markdown",
   "id": "d945b49a",
   "metadata": {},
   "source": [
    "# Dictionary 的用法"
   ]
  },
  {
   "cell_type": "raw",
   "id": "c79eea70",
   "metadata": {},
   "source": [
    "在 C# 中，Dictionary 的主要用途是提供快速的基於鍵值的元素查找。Dictionary 的結構一般是這樣的：\n",
    "\n",
    "Dictionary<[key], [value]> \n",
    "\n",
    "它包含在 System.Collections.Generic 命名空間中。在使用 Dictionary 前，你必須對它的鍵類型和值類型進行聲明。 "
   ]
  },
  {
   "cell_type": "markdown",
   "id": "4c67b84b",
   "metadata": {},
   "source": [
    "# Dictionary 的描述"
   ]
  },
  {
   "cell_type": "raw",
   "id": "402853c0",
   "metadata": {},
   "source": [
    "- 從一組鍵（Key）到一組值（Value）的映射，每一個添加項都是由一個值及其相關連的鍵組成\n",
    "- 任何鍵都必須是唯一的\n",
    "- 鍵不能為空引用 null，若值為引用類型，則可以為空值\n",
    "- Key 和 Value 可以是任何類型（string，int，custom class 等）\n",
    "- Dictionary 常用用法：以 key 的類型為 int , value 的類型為 string 為例"
   ]
  },
  {
   "cell_type": "markdown",
   "id": "1cb69bee",
   "metadata": {},
   "source": [
    "# 創建及初始化"
   ]
  },
  {
   "cell_type": "code",
   "execution_count": null,
   "id": "f19c4adb",
   "metadata": {},
   "outputs": [],
   "source": [
    " Dictionary<int,string> myDictionary = new Dictionary<int,string>();"
   ]
  },
  {
   "cell_type": "markdown",
   "id": "0aaf189c",
   "metadata": {},
   "source": [
    "# 添加元素"
   ]
  },
  {
   "cell_type": "code",
   "execution_count": null,
   "id": "71f3fc07",
   "metadata": {},
   "outputs": [],
   "source": [
    "myDictionary.Add(1,\"C#\");\n",
    "myDictionary.Add(2,\"C++\");\n",
    "myDictionary.Add(3,\"ASP.NET\");\n",
    "myDictionary.Add(4,\"MVC\");"
   ]
  },
  {
   "cell_type": "markdown",
   "id": "99f2f838",
   "metadata": {},
   "source": [
    "# 通過 Key 查找元素"
   ]
  },
  {
   "cell_type": "code",
   "execution_count": null,
   "id": "65600dee",
   "metadata": {},
   "outputs": [],
   "source": [
    "if(myDictionary.ContainsKey(1)){\n",
    "    Console.WriteLine(\"Key:{0},Value:{1}\",\"1\", myDictionary[1]);\n",
    " }"
   ]
  },
  {
   "cell_type": "markdown",
   "id": "9542a049",
   "metadata": {},
   "source": [
    "# 通過 KeyValuePair 遍歷元素"
   ]
  },
  {
   "cell_type": "code",
   "execution_count": null,
   "id": "8540d930",
   "metadata": {},
   "outputs": [],
   "source": [
    "foreach(KeyValuePair<int,string> kvp in myDictionary)\n",
    "    {\n",
    "        Console.WriteLine(\"Key = {0}, Value = {1}\", kvp.Key, kvp.Value);\n",
    "    }"
   ]
  },
  {
   "cell_type": "markdown",
   "id": "b7e5063d",
   "metadata": {},
   "source": [
    "# 僅遍歷鍵 Keys 屬性"
   ]
  },
  {
   "cell_type": "code",
   "execution_count": null,
   "id": "ea8097f8",
   "metadata": {},
   "outputs": [],
   "source": [
    "Dictionary<int,string>.KeyCollection keyCol = myDictionary.Keys;\n",
    "\n",
    "foreach(int key in keyCol)\n",
    "    {\n",
    "        Console.WriteLine(\"Key = {0}\", key);\n",
    "    }"
   ]
  },
  {
   "cell_type": "markdown",
   "id": "2b442943",
   "metadata": {},
   "source": [
    "# 僅遍歷值 Valus 屬性"
   ]
  },
  {
   "cell_type": "code",
   "execution_count": null,
   "id": "37c23eab",
   "metadata": {},
   "outputs": [],
   "source": [
    "Dictionary<int,string>.ValueCollection valueCol = myDictionary.Values;\n",
    "\n",
    "foreach(string value in valueCol)\n",
    "    {\n",
    "        Console.WriteLine(\"Value = {0}\", value);\n",
    "    }"
   ]
  },
  {
   "cell_type": "markdown",
   "id": "1ecc3867",
   "metadata": {},
   "source": [
    "# 通過 Remove 方法移除指定的鍵值"
   ]
  },
  {
   "cell_type": "code",
   "execution_count": null,
   "id": "904aeedd",
   "metadata": {},
   "outputs": [],
   "source": [
    "myDictionary.Remove(1);\n",
    "\n",
    "if(myDictionary.ContainsKey(1))\n",
    "    {\n",
    "      Console.WriteLine(\"Key:{0},Value:{1}\",\"1\", myDictionary[1]);\n",
    "    }\n",
    "else\n",
    "    {\n",
    "        Console.WriteLine(\"不存在 Key : 1\"); \n",
    "    }"
   ]
  },
  {
   "cell_type": "markdown",
   "id": "8ee6a9c3",
   "metadata": {},
   "source": [
    "# 其它常見屬性和方法的說明"
   ]
  },
  {
   "cell_type": "raw",
   "id": "8acb0ece",
   "metadata": {},
   "source": [
    "Compare         獲取用於確定字典中的鍵是否相等的 IEqualityComparer\n",
    "Count           獲取包含在 Dictionary 中的鍵/值對的數目\n",
    "Item\t        獲取或設置與指定的鍵相關聯的值\n",
    "Keys\t        獲取包含 Dictionary 中的鍵的集合\n",
    "Values \t        獲取包含 Dictionary 中的值的集合\n",
    "Add \t        將指定的鍵和值添加到字典中\n",
    "Clear \t        從 Dictionary 中移除所有的鍵和值\n",
    "ContainsKey \t確定 Dictionary是否包含指定的鍵 \n",
    "ContainsValue \t確定 Dictionary是否包含特定值 \n",
    "GetEnumerator \t返回循環訪問 Dictionary的枚舉數 \n",
    "GetType \t    獲取當前實例的 Type （從 Object 繼承）\n",
    "Remove \t        從 Dictionary 中移除所指定的鍵的值 \n",
    "ToString \t    返回表示當前 Object的 String （從 Object 繼承）\n",
    "TryGetValue \t獲取與指定的鍵相關聯的值 "
   ]
  }
 ],
 "metadata": {
  "kernelspec": {
   "display_name": "Python 3",
   "language": "python",
   "name": "python3"
  },
  "language_info": {
   "codemirror_mode": {
    "name": "ipython",
    "version": 3
   },
   "file_extension": ".py",
   "mimetype": "text/x-python",
   "name": "python",
   "nbconvert_exporter": "python",
   "pygments_lexer": "ipython3",
   "version": "3.8.10"
  }
 },
 "nbformat": 4,
 "nbformat_minor": 5
}
