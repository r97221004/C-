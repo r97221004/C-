{
 "cells": [
  {
   "cell_type": "markdown",
   "id": "30fdb28c",
   "metadata": {},
   "source": [
    "# Constructor 的基本操作"
   ]
  },
  {
   "cell_type": "raw",
   "id": "4dfe36ae",
   "metadata": {},
   "source": [
    "注意建構函數不用指定回傳值。"
   ]
  },
  {
   "cell_type": "raw",
   "id": "82536cb0",
   "metadata": {},
   "source": [
    "Person.cs 檔"
   ]
  },
  {
   "cell_type": "code",
   "execution_count": null,
   "id": "b3ce4270",
   "metadata": {},
   "outputs": [],
   "source": [
    "namespace ConsoleApp1\n",
    "{\n",
    "        class Person\n",
    "        {\n",
    "            public double height;\n",
    "            public int age;\n",
    "            public string name;\n",
    "\n",
    "        public Person(double h, int a, string n)\n",
    "        {\n",
    "            height = h;\n",
    "            age = a;\n",
    "            name = n;\n",
    "        }\n",
    "\n",
    "\n",
    "        }\n",
    "   \n",
    "}"
   ]
  },
  {
   "cell_type": "raw",
   "id": "356fc185",
   "metadata": {},
   "source": [
    "Program.cs"
   ]
  },
  {
   "cell_type": "code",
   "execution_count": null,
   "id": "c9cb583d",
   "metadata": {},
   "outputs": [],
   "source": [
    "using ConsoleApp1;\n",
    "\n",
    "class Program\n",
    "{\n",
    "    static void Main()\n",
    "    {\n",
    "        Person person1 = new Person(170.5, 42, \"小黑\");\n",
    "        Person person2 = new Person(160.6, 17, \"小橘\");\n",
    "\n",
    "        Console.WriteLine(person1.name);\n",
    "        Console.WriteLine(person2.name);\n",
    "    } \n",
    "}"
   ]
  },
  {
   "cell_type": "markdown",
   "id": "96888cd2",
   "metadata": {},
   "source": [
    "---"
   ]
  },
  {
   "cell_type": "raw",
   "id": "709aac0e",
   "metadata": {},
   "source": [
    "如果想用 height = height ，可參考以下的寫法。 \n",
    "左邊 this.height 代表類別的屬性，右邊 height 代表參數。"
   ]
  },
  {
   "cell_type": "raw",
   "id": "2a409d08",
   "metadata": {},
   "source": [
    "Person.cs 檔"
   ]
  },
  {
   "cell_type": "code",
   "execution_count": null,
   "id": "a9289056",
   "metadata": {},
   "outputs": [],
   "source": [
    "namespace ConsoleApp1\n",
    "{\n",
    "        class Person\n",
    "        {\n",
    "            public double height;\n",
    "            public int age;\n",
    "            public string name;\n",
    "\n",
    "        public Person(double height, int age, string name)\n",
    "        {\n",
    "            this.height = height;\n",
    "            this.age = age;\n",
    "            this.name = name;\n",
    "        }\n",
    "\n",
    "\n",
    "        }\n",
    "   \n",
    "}"
   ]
  },
  {
   "cell_type": "raw",
   "id": "ee57f7b7",
   "metadata": {},
   "source": [
    "Program.cs 檔"
   ]
  },
  {
   "cell_type": "code",
   "execution_count": null,
   "id": "b0c6deac",
   "metadata": {},
   "outputs": [],
   "source": [
    "using ConsoleApp1;\n",
    "\n",
    "class Program\n",
    "{\n",
    "    static void Main()\n",
    "    {\n",
    "        Person person1 = new Person(170.5, 42, \"小黑\");\n",
    "        Person person2 = new Person(160.6, 17, \"小橘\");\n",
    "\n",
    "        Console.WriteLine(person1.name);\n",
    "        Console.WriteLine(person2.name);\n",
    "    } \n",
    "}"
   ]
  }
 ],
 "metadata": {
  "kernelspec": {
   "display_name": "Python 3",
   "language": "python",
   "name": "python3"
  },
  "language_info": {
   "codemirror_mode": {
    "name": "ipython",
    "version": 3
   },
   "file_extension": ".py",
   "mimetype": "text/x-python",
   "name": "python",
   "nbconvert_exporter": "python",
   "pygments_lexer": "ipython3",
   "version": "3.8.10"
  }
 },
 "nbformat": 4,
 "nbformat_minor": 5
}
