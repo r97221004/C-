{
 "cells": [
  {
   "cell_type": "markdown",
   "id": "7c3a32a1",
   "metadata": {},
   "source": [
    "# 數值的常見用法"
   ]
  },
  {
   "cell_type": "raw",
   "id": "f98e68eb",
   "metadata": {},
   "source": [
    "加法"
   ]
  },
  {
   "cell_type": "code",
   "execution_count": null,
   "id": "aee2cdb7",
   "metadata": {},
   "outputs": [],
   "source": [
    "System.Console.WriteLine(8+9);"
   ]
  },
  {
   "cell_type": "raw",
   "id": "b2511cb5",
   "metadata": {},
   "source": [
    "除法。都是整數出來還是整數。"
   ]
  },
  {
   "cell_type": "code",
   "execution_count": null,
   "id": "8a409fe0",
   "metadata": {},
   "outputs": [],
   "source": [
    "System.Console.WriteLine(5 / 2);"
   ]
  },
  {
   "cell_type": "raw",
   "id": "afa9e761",
   "metadata": {},
   "source": [
    "除法。有一個數是浮點數，出來就會是浮點數。"
   ]
  },
  {
   "cell_type": "code",
   "execution_count": null,
   "id": "39c147d8",
   "metadata": {},
   "outputs": [],
   "source": [
    "System.Console.WriteLine(5 / 2.0);"
   ]
  },
  {
   "cell_type": "raw",
   "id": "3d9d5303",
   "metadata": {},
   "source": [
    "綜合操作"
   ]
  },
  {
   "cell_type": "code",
   "execution_count": null,
   "id": "c569a944",
   "metadata": {},
   "outputs": [],
   "source": [
    "int num = 3;\n",
    "System.Console.WriteLine((5*2)*num);"
   ]
  },
  {
   "cell_type": "raw",
   "id": "77eaef6d",
   "metadata": {},
   "source": [
    "絕對值"
   ]
  },
  {
   "cell_type": "code",
   "execution_count": null,
   "id": "c284b727",
   "metadata": {},
   "outputs": [],
   "source": [
    "System.Console.WriteLine(System.Math.Abs(-10));"
   ]
  },
  {
   "cell_type": "raw",
   "id": "96462c6c",
   "metadata": {},
   "source": [
    "次方"
   ]
  },
  {
   "cell_type": "code",
   "execution_count": null,
   "id": "e1778112",
   "metadata": {},
   "outputs": [],
   "source": [
    "System.Console.WriteLine(System.Math.Pow(2, 3));"
   ]
  },
  {
   "cell_type": "raw",
   "id": "7197d236",
   "metadata": {},
   "source": [
    "開根號"
   ]
  },
  {
   "cell_type": "code",
   "execution_count": null,
   "id": "a0737fab",
   "metadata": {},
   "outputs": [],
   "source": [
    "System.Console.WriteLine(System.Math.Sqrt(64));"
   ]
  },
  {
   "cell_type": "raw",
   "id": "eb0d2112",
   "metadata": {},
   "source": [
    "最大值"
   ]
  },
  {
   "cell_type": "code",
   "execution_count": null,
   "id": "67861628",
   "metadata": {},
   "outputs": [],
   "source": [
    "System.Console.WriteLine(System.Math.Max(2, 100));"
   ]
  },
  {
   "cell_type": "raw",
   "id": "87b99fe1",
   "metadata": {},
   "source": [
    "四捨五入"
   ]
  },
  {
   "cell_type": "code",
   "execution_count": null,
   "id": "e435c8c0",
   "metadata": {},
   "outputs": [],
   "source": [
    "System.Console.WriteLine(System.Math.Round(4.6));"
   ]
  }
 ],
 "metadata": {
  "kernelspec": {
   "display_name": "Python 3",
   "language": "python",
   "name": "python3"
  },
  "language_info": {
   "codemirror_mode": {
    "name": "ipython",
    "version": 3
   },
   "file_extension": ".py",
   "mimetype": "text/x-python",
   "name": "python",
   "nbconvert_exporter": "python",
   "pygments_lexer": "ipython3",
   "version": "3.8.10"
  }
 },
 "nbformat": 4,
 "nbformat_minor": 5
}
