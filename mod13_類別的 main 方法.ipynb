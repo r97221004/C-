{
 "cells": [
  {
   "cell_type": "raw",
   "id": "d1b1db8f",
   "metadata": {},
   "source": [
    "可以依靠 main 方法來判斷專案的起始位置。"
   ]
  },
  {
   "cell_type": "raw",
   "id": "cb4d5a3e",
   "metadata": {},
   "source": [
    "Person.cs 檔"
   ]
  },
  {
   "cell_type": "code",
   "execution_count": null,
   "id": "8ced9547",
   "metadata": {},
   "outputs": [],
   "source": [
    "using System;\n",
    "\n",
    "namespace ConsoleApp1\n",
    "{\n",
    "        class Person\n",
    "        {\n",
    "            public double height;\n",
    "            public int age;\n",
    "            public string name;\n",
    "\n",
    "            public void SayHi()\n",
    "            {\n",
    "                Console.WriteLine(\"妳好啊!我叫\" + name);\n",
    "            }\n",
    "\n",
    "            public bool IsAdult()\n",
    "            {\n",
    "                if (age >= 18)\n",
    "                {\n",
    "                    return true;\n",
    "                }\n",
    "                else\n",
    "                {\n",
    "                    return false;\n",
    "                }\n",
    "            }\n",
    "\n",
    "            public int Add(int num1, int num2)\n",
    "            {\n",
    "                return num1 + num2;\n",
    "            }\n",
    "        }\n",
    "   \n",
    "}"
   ]
  },
  {
   "cell_type": "raw",
   "id": "f3597f6a",
   "metadata": {},
   "source": [
    "Program.cs 檔"
   ]
  },
  {
   "cell_type": "code",
   "execution_count": null,
   "id": "a8d0fbdd",
   "metadata": {},
   "outputs": [],
   "source": [
    "using ConsoleApp1;\n",
    "\n",
    "class Program\n",
    "{\n",
    "    static void Main()\n",
    "    {\n",
    "        Person person1 = new Person();\n",
    "        person1.height = 170.5;\n",
    "        person1.age = 42;\n",
    "        person1.name = \"小黑\";\n",
    "        person1.SayHi();\n",
    "        Console.WriteLine(person1.IsAdult());\n",
    "        Console.WriteLine(person1.Add(2, 3));\n",
    "\n",
    "        Person person2 = new Person();\n",
    "        person2.height = 160.6;\n",
    "        person2.age = 17;\n",
    "        person2.name = \"小橘\";\n",
    "        person1.SayHi();\n",
    "        Console.WriteLine(person2.IsAdult());\n",
    "    }\n",
    "}"
   ]
  }
 ],
 "metadata": {
  "kernelspec": {
   "display_name": "Python 3",
   "language": "python",
   "name": "python3"
  },
  "language_info": {
   "codemirror_mode": {
    "name": "ipython",
    "version": 3
   },
   "file_extension": ".py",
   "mimetype": "text/x-python",
   "name": "python",
   "nbconvert_exporter": "python",
   "pygments_lexer": "ipython3",
   "version": "3.8.10"
  }
 },
 "nbformat": 4,
 "nbformat_minor": 5
}
