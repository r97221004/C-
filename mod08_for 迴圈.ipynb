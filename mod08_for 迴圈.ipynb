{
 "cells": [
  {
   "cell_type": "markdown",
   "id": "4477456f",
   "metadata": {},
   "source": [
    "# for 迴圈"
   ]
  },
  {
   "cell_type": "raw",
   "id": "27186ff2",
   "metadata": {},
   "source": [
    "列印出 1 到 5 的整數"
   ]
  },
  {
   "cell_type": "code",
   "execution_count": null,
   "id": "6cfc229e",
   "metadata": {},
   "outputs": [],
   "source": [
    "for (int i = 1; i <= 5; i++)\n",
    "{\n",
    "    System.Console.WriteLine(i);\n",
    "}"
   ]
  },
  {
   "cell_type": "raw",
   "id": "32a932af",
   "metadata": {},
   "source": [
    "陣列使用 for 迴圈"
   ]
  },
  {
   "cell_type": "code",
   "execution_count": null,
   "id": "0a6505f5",
   "metadata": {},
   "outputs": [],
   "source": [
    "int[] nums = { 15, 1561, 6, 2, 8156, 156, 626 };\n",
    "\n",
    "for (int i = 0; i < nums.Length; i++)\n",
    "{\n",
    "    System.Console.WriteLine(nums[i]);\n",
    "}"
   ]
  },
  {
   "cell_type": "markdown",
   "id": "8af11c62",
   "metadata": {},
   "source": [
    "# 搭配陣列使用 foreach"
   ]
  },
  {
   "cell_type": "raw",
   "id": "5ee6f17a",
   "metadata": {},
   "source": [
    "foreach 陳述式提供了一個簡單且清楚的方法來逐一查看陣列中的元素。\n",
    "針對一維陣列，foreach 陳述式會以遞增索引順序處理元素，從索引 0 開始並於索引 Length - 1 結束："
   ]
  },
  {
   "cell_type": "code",
   "execution_count": null,
   "id": "60ddfd89",
   "metadata": {},
   "outputs": [],
   "source": [
    "int[] numbers = { 4, 5, 6, 1, 2, 3, -2, -1, 0 };\n",
    "foreach (int i in numbers)\n",
    "{\n",
    "    System.Console.Write(\"{0} \", i);\n",
    "}"
   ]
  },
  {
   "cell_type": "raw",
   "id": "8c5f13e2",
   "metadata": {},
   "source": [
    "Output: 4 5 6 1 2 3 -2 -1 0"
   ]
  },
  {
   "cell_type": "markdown",
   "id": "23e96e28",
   "metadata": {},
   "source": [
    "---"
   ]
  },
  {
   "cell_type": "raw",
   "id": "1fb1c45f",
   "metadata": {},
   "source": [
    "針對多維陣列，元素的周遊方式是先遞增最右側維度的索引，然後下一個左側的維度，以此類推向繼續左："
   ]
  },
  {
   "cell_type": "code",
   "execution_count": null,
   "id": "82383994",
   "metadata": {},
   "outputs": [],
   "source": [
    "int[,] numbers2D = new int[3, 2] { { 9, 99 }, { 3, 33 }, { 5, 55 } };\n",
    "// Or use the short form:\n",
    "// int[,] numbers2D = { { 9, 99 }, { 3, 33 }, { 5, 55 } };\n",
    "\n",
    "foreach (int i in numbers2D)\n",
    "{\n",
    "    System.Console.Write(\"{0} \", i);\n",
    "}"
   ]
  },
  {
   "cell_type": "raw",
   "id": "b4b5b81f",
   "metadata": {},
   "source": [
    "Output: 9 99 3 33 5 55"
   ]
  }
 ],
 "metadata": {
  "kernelspec": {
   "display_name": "Python 3",
   "language": "python",
   "name": "python3"
  },
  "language_info": {
   "codemirror_mode": {
    "name": "ipython",
    "version": 3
   },
   "file_extension": ".py",
   "mimetype": "text/x-python",
   "name": "python",
   "nbconvert_exporter": "python",
   "pygments_lexer": "ipython3",
   "version": "3.8.10"
  }
 },
 "nbformat": 4,
 "nbformat_minor": 5
}
