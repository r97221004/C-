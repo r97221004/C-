{
 "cells": [
  {
   "cell_type": "markdown",
   "id": "4477456f",
   "metadata": {},
   "source": [
    "# for 迴圈"
   ]
  },
  {
   "cell_type": "raw",
   "id": "27186ff2",
   "metadata": {},
   "source": [
    "列印出 1 到 5 的整數"
   ]
  },
  {
   "cell_type": "markdown",
   "id": "c8f0935e",
   "metadata": {},
   "source": [
    "for (int i = 1; i <= 5; i++)\n",
    "{\n",
    "    System.Console.WriteLine(i);\n",
    "}"
   ]
  },
  {
   "cell_type": "raw",
   "id": "32a932af",
   "metadata": {},
   "source": [
    "陣列使用 for 迴圈"
   ]
  },
  {
   "cell_type": "code",
   "execution_count": null,
   "id": "0a6505f5",
   "metadata": {},
   "outputs": [],
   "source": [
    "int[] nums = { 15, 1561, 6, 2, 8156, 156, 626 };\n",
    "\n",
    "for (int i = 0; i < nums.Length; i++)\n",
    "{\n",
    "    System.Console.WriteLine(nums[i]);\n",
    "}"
   ]
  }
 ],
 "metadata": {
  "kernelspec": {
   "display_name": "Python 3",
   "language": "python",
   "name": "python3"
  },
  "language_info": {
   "codemirror_mode": {
    "name": "ipython",
    "version": 3
   },
   "file_extension": ".py",
   "mimetype": "text/x-python",
   "name": "python",
   "nbconvert_exporter": "python",
   "pygments_lexer": "ipython3",
   "version": "3.8.10"
  }
 },
 "nbformat": 4,
 "nbformat_minor": 5
}
