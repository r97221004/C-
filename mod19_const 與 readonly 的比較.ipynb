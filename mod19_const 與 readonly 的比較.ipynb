{
 "cells": [
  {
   "cell_type": "raw",
   "id": "2c60a9f5",
   "metadata": {},
   "source": [
    "平時在開發時經常會用到 const, readonly 關鍵字，可以肯定這些關鍵詞是完全不同的概念，但有時候他們在用法上很相似以至于在場景中不知道選擇哪一個，這篇文章我們就來討論 C# 中的 const 和 readonly 關鍵詞，放在一起比較一下看看如何選擇。"
   ]
  },
  {
   "cell_type": "markdown",
   "id": "c6ebde40",
   "metadata": {},
   "source": [
    "# const 的使用"
   ]
  },
  {
   "cell_type": "raw",
   "id": "00276775",
   "metadata": {},
   "source": [
    "const 常用來定義一個常量，什么意思呢？就是這個常量在你程式的生命周期內都不會被改變，因此，必須在宣告常量時為其賦值，從技術角度上來說：這個常量值又被稱為編譯時的值，用 const 定義的變數又被稱為編譯時常量，值得注意的是: 這個常量是不可變的，也就是一旦被定義好之后不可以對其進行修改，下面的代碼片段展示了如何使用 const 去定義這個編譯時常量。"
   ]
  },
  {
   "cell_type": "code",
   "execution_count": null,
   "id": "08e48098",
   "metadata": {},
   "outputs": [],
   "source": [
    "const string connectionString = \"Specify your database connection string here.\";"
   ]
  },
  {
   "cell_type": "raw",
   "id": "834f457d",
   "metadata": {},
   "source": [
    "一定要記住，常量必須在定義的時候給它賦值，同時也要記住不可以用 const 定義 object 型別，因為它只支持 C# 的基元型別，比如：ints, floats, chars, booleans 和 strings。"
   ]
  },
  {
   "cell_type": "markdown",
   "id": "c7f577ff",
   "metadata": {},
   "source": [
    "# readonly 的使用"
   ]
  },
  {
   "cell_type": "raw",
   "id": "d7ab13b5",
   "metadata": {},
   "source": [
    "只讀關鍵詞 readonly 常用于將一個變數或者一個物件設定為只讀，意味著這個變數或者物件只能在類作用域或者建構式中被第一次賦值，一旦被賦值后，你就不能通過任何方法對其修改，除了建構式，接下來看一個例子，考慮下面的 DbManager類:"
   ]
  },
  {
   "cell_type": "code",
   "execution_count": null,
   "id": "a1a8406a",
   "metadata": {},
   "outputs": [],
   "source": [
    "public class DbManager\n",
    "{\n",
    "    public readonly string connectionString =\"Specify your database connection string here.\";\n",
    "\n",
    "    public DbManager()\n",
    "    {\n",
    "        connectionString = \"You can reassign a value here.\";\n",
    "    }\n",
    "\n",
    "    public void ReAssign()\n",
    "    {\n",
    "        connectionString = \"This is not allowed\";\n",
    "    }\n",
    "}"
   ]
  },
  {
   "cell_type": "raw",
   "id": "f7d70526",
   "metadata": {},
   "source": [
    "上面的代碼會編譯報錯，錯誤原因在於 connectionString 只能在類作用域或建構式中被第一次賦值，一旦被賦值后，你就不能通過任何方法對其修改。"
   ]
  }
 ],
 "metadata": {
  "kernelspec": {
   "display_name": "Python 3",
   "language": "python",
   "name": "python3"
  },
  "language_info": {
   "codemirror_mode": {
    "name": "ipython",
    "version": 3
   },
   "file_extension": ".py",
   "mimetype": "text/x-python",
   "name": "python",
   "nbconvert_exporter": "python",
   "pygments_lexer": "ipython3",
   "version": "3.8.10"
  }
 },
 "nbformat": 4,
 "nbformat_minor": 5
}
