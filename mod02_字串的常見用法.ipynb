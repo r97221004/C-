{
 "cells": [
  {
   "cell_type": "markdown",
   "id": "cf46cc49",
   "metadata": {},
   "source": [
    "# 字串的常見用法"
   ]
  },
  {
   "cell_type": "raw",
   "id": "fdd1fde4",
   "metadata": {},
   "source": [
    "換行"
   ]
  },
  {
   "cell_type": "code",
   "execution_count": null,
   "id": "18804a0b",
   "metadata": {},
   "outputs": [],
   "source": [
    "System.Console.WriteLine(\"Hello \\nMr.White\");"
   ]
  },
  {
   "cell_type": "raw",
   "id": "81cd85b1",
   "metadata": {},
   "source": [
    "跳脫"
   ]
  },
  {
   "cell_type": "code",
   "execution_count": null,
   "id": "b338be57",
   "metadata": {},
   "outputs": [],
   "source": [
    "System.Console.WriteLine(\"Hello \\\"Mr.White\");"
   ]
  },
  {
   "cell_type": "raw",
   "id": "72ed4cb5",
   "metadata": {},
   "source": [
    "字串相加"
   ]
  },
  {
   "cell_type": "code",
   "execution_count": null,
   "id": "2a2cf0d0",
   "metadata": {},
   "outputs": [],
   "source": [
    "System.Console.WriteLine(\"Hello\" + \"Mr.White\");"
   ]
  },
  {
   "cell_type": "raw",
   "id": "40de0eda",
   "metadata": {},
   "source": [
    "字串長度"
   ]
  },
  {
   "cell_type": "code",
   "execution_count": null,
   "id": "c89262b5",
   "metadata": {},
   "outputs": [],
   "source": [
    "string phranse = \"Hello Mr.White\";\n",
    "System.Console.WriteLine(phranse.Length);"
   ]
  },
  {
   "cell_type": "raw",
   "id": "ae28a4a3",
   "metadata": {},
   "source": [
    "字串轉大寫"
   ]
  },
  {
   "cell_type": "code",
   "execution_count": null,
   "id": "710ec60c",
   "metadata": {},
   "outputs": [],
   "source": [
    "System.Console.WriteLine(phranse.ToUpper());"
   ]
  },
  {
   "cell_type": "raw",
   "id": "c44b091f",
   "metadata": {},
   "source": [
    "字串轉小寫"
   ]
  },
  {
   "cell_type": "code",
   "execution_count": null,
   "id": "4fbdee32",
   "metadata": {},
   "outputs": [],
   "source": [
    "System.Console.WriteLine(phranse.ToLower());"
   ]
  },
  {
   "cell_type": "raw",
   "id": "e3caece7",
   "metadata": {},
   "source": [
    "包含方法"
   ]
  },
  {
   "cell_type": "code",
   "execution_count": null,
   "id": "e7d55a8a",
   "metadata": {},
   "outputs": [],
   "source": [
    "System.Console.WriteLine(phranse.Contains(\"Hello\"));"
   ]
  },
  {
   "cell_type": "raw",
   "id": "e0f34769",
   "metadata": {},
   "source": [
    "位置"
   ]
  },
  {
   "cell_type": "code",
   "execution_count": null,
   "id": "22793860",
   "metadata": {},
   "outputs": [],
   "source": [
    "System.Console.WriteLine(phranse[1]);"
   ]
  },
  {
   "cell_type": "raw",
   "id": "d3fc5472",
   "metadata": {},
   "source": [
    "找位置，會回傳最先早到的位置。"
   ]
  },
  {
   "cell_type": "code",
   "execution_count": null,
   "id": "62b1f04f",
   "metadata": {},
   "outputs": [],
   "source": [
    "System.Console.WriteLine(phranse.IndexOf('H'));\n",
    "System.Console.WriteLine(phranse.IndexOf(\"White\"));\n",
    "System.Console.WriteLine(phranse.IndexOf(\"QQ\"));"
   ]
  },
  {
   "cell_type": "raw",
   "id": "22a16d5b",
   "metadata": {},
   "source": [
    "切片"
   ]
  },
  {
   "cell_type": "code",
   "execution_count": null,
   "id": "763031ae",
   "metadata": {},
   "outputs": [],
   "source": [
    "System.Console.WriteLine(phranse.Substring(6,3));"
   ]
  }
 ],
 "metadata": {
  "kernelspec": {
   "display_name": "Python 3",
   "language": "python",
   "name": "python3"
  },
  "language_info": {
   "codemirror_mode": {
    "name": "ipython",
    "version": 3
   },
   "file_extension": ".py",
   "mimetype": "text/x-python",
   "name": "python",
   "nbconvert_exporter": "python",
   "pygments_lexer": "ipython3",
   "version": "3.8.10"
  }
 },
 "nbformat": 4,
 "nbformat_minor": 5
}
