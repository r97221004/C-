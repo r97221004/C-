{
 "cells": [
  {
   "cell_type": "markdown",
   "id": "a31b7b23",
   "metadata": {},
   "source": [
    "# 將類別的屬性私有化"
   ]
  },
  {
   "cell_type": "raw",
   "id": "4d6916de",
   "metadata": {},
   "source": [
    "將 Video 類別的屬性 type 私有化。"
   ]
  },
  {
   "cell_type": "raw",
   "id": "05a23a78",
   "metadata": {},
   "source": [
    "Video.cs 檔"
   ]
  },
  {
   "cell_type": "code",
   "execution_count": null,
   "id": "5cdeaee3",
   "metadata": {},
   "outputs": [],
   "source": [
    "namespace ConsoleApp1\n",
    "{\n",
    "    class Video\n",
    "    {\n",
    "        public string title;\n",
    "        public string author;\n",
    "        // 影片類型只有四種: 教育、娛樂、音樂、其他\n",
    "        private string type;\n",
    "\n",
    "        public Video(string title, string author, string type)\n",
    "        {\n",
    "            this.title = title;\n",
    "            this.author = author;\n",
    "            this.type = type;\n",
    "        }\n",
    "    }\n",
    "}"
   ]
  },
  {
   "cell_type": "raw",
   "id": "1ed458c9",
   "metadata": {},
   "source": [
    "因為屬性 type 已經私有化，只能在類別內使用。下面的存取就會失敗。"
   ]
  },
  {
   "cell_type": "raw",
   "id": "c0b48d24",
   "metadata": {},
   "source": [
    "Program.cs 檔"
   ]
  },
  {
   "cell_type": "code",
   "execution_count": null,
   "id": "b39e13a4",
   "metadata": {},
   "outputs": [],
   "source": [
    "using ConsoleApp1;\n",
    "using System;\n",
    "\n",
    "Video video1 = new Video(\"敢愛就來\", \"Matt\", \"愛情片\");\n",
    "\n",
    "Console.WriteLine(video1.type);"
   ]
  },
  {
   "cell_type": "markdown",
   "id": "4b9dd9ce",
   "metadata": {},
   "source": [
    "# 限制類別屬性的種類"
   ]
  },
  {
   "cell_type": "raw",
   "id": "399618e3",
   "metadata": {},
   "source": [
    "將屬性 type 私有化，要存取影片類型要靠 Type。\n",
    "要取得影片類型會執行 get。\n",
    "要設定影片類型會執行 set。"
   ]
  },
  {
   "cell_type": "raw",
   "id": "4b9892ee",
   "metadata": {},
   "source": [
    "Video.cs 檔"
   ]
  },
  {
   "cell_type": "code",
   "execution_count": null,
   "id": "7f4b3d35",
   "metadata": {},
   "outputs": [],
   "source": [
    "namespace ConsoleApp1\n",
    "{\n",
    "    class Video\n",
    "    {\n",
    "        public string title;\n",
    "        public string author;\n",
    "        // 影片類型只有四種: 教育、娛樂、音樂、其他\n",
    "        private string type;\n",
    "\n",
    "        public Video(string title, string author, string type)\n",
    "        {\n",
    "            this.title = title;\n",
    "            this.author = author;\n",
    "            Type = type;\n",
    "        }\n",
    "        public string Type \n",
    "        { \n",
    "            get { return type; }\n",
    "            set {\n",
    "                if (value == \"教育\" || value == \"娛樂\" || value == \"音樂\" || value == \"其他\")\n",
    "                {\n",
    "                    type = value;\n",
    "                }\n",
    "                else\n",
    "                {\n",
    "                    type = \"其他\";\n",
    "                }\n",
    "        }\n",
    "        }\n",
    "    }\n",
    "}"
   ]
  },
  {
   "cell_type": "raw",
   "id": "357d6ed3",
   "metadata": {},
   "source": [
    "這樣的操作，如果影片類型設定成愛情片就會被設定成其他。"
   ]
  },
  {
   "cell_type": "raw",
   "id": "163c3263",
   "metadata": {},
   "source": [
    "Program.cs 檔"
   ]
  },
  {
   "cell_type": "code",
   "execution_count": null,
   "id": "e407537b",
   "metadata": {},
   "outputs": [],
   "source": [
    "using ConsoleApp1;\n",
    "using System;\n",
    "\n",
    "\n",
    "Video video1 = new Video(\"敢愛就來\", \"Matt\", \"愛情片\");\n",
    "\n",
    "\n",
    "video1.Type = \"教育\";\n",
    "Console.WriteLine(video1.Type);"
   ]
  }
 ],
 "metadata": {
  "kernelspec": {
   "display_name": "Python 3",
   "language": "python",
   "name": "python3"
  },
  "language_info": {
   "codemirror_mode": {
    "name": "ipython",
    "version": 3
   },
   "file_extension": ".py",
   "mimetype": "text/x-python",
   "name": "python",
   "nbconvert_exporter": "python",
   "pygments_lexer": "ipython3",
   "version": "3.8.10"
  }
 },
 "nbformat": 4,
 "nbformat_minor": 5
}
