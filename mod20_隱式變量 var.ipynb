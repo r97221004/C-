{
 "cells": [
  {
   "cell_type": "markdown",
   "id": "afbb6063",
   "metadata": {},
   "source": [
    "# 隱式變量 var"
   ]
  },
  {
   "cell_type": "raw",
   "id": "5592b8dd",
   "metadata": {},
   "source": [
    "在 C# 中，變量必須使用數據類型聲明。這些稱為顯式類型變量。"
   ]
  },
  {
   "cell_type": "code",
   "execution_count": null,
   "id": "572755b4",
   "metadata": {},
   "outputs": [],
   "source": [
    "int i = 100;"
   ]
  },
  {
   "cell_type": "raw",
   "id": "51f3835f",
   "metadata": {},
   "source": [
    "C# 3.0 引入了 var 關鍵字來聲明方法級變量，而無需顯式指定數據類型。  "
   ]
  },
  {
   "cell_type": "code",
   "execution_count": null,
   "id": "4d9dd032",
   "metadata": {},
   "outputs": [],
   "source": [
    "var j = 100;"
   ]
  },
  {
   "cell_type": "raw",
   "id": "cce14bc8",
   "metadata": {},
   "source": [
    "編譯器將從 = 運算符右側的表達式中推斷出變量的類型。上面 var 將編譯為 int。"
   ]
  },
  {
   "cell_type": "markdown",
   "id": "b5b9cc06",
   "metadata": {},
   "source": [
    "---"
   ]
  },
  {
   "cell_type": "code",
   "execution_count": null,
   "id": "6ede1905",
   "metadata": {},
   "outputs": [],
   "source": [
    "以下從表達式推斷類型。"
   ]
  },
  {
   "cell_type": "code",
   "execution_count": null,
   "id": "2c460ae9",
   "metadata": {},
   "outputs": [],
   "source": [
    "int i = 10;\n",
    "var j = i + 1; // 編譯為 int"
   ]
  },
  {
   "cell_type": "markdown",
   "id": "85255afc",
   "metadata": {},
   "source": [
    "---"
   ]
  },
  {
   "cell_type": "raw",
   "id": "2b8b82f6",
   "metadata": {},
   "source": [
    "var 可用於聲明任何內置數據類型，用戶定義類型或匿名類型變量。下面範例顯示 C# 編譯器根據該值推斷類型：   "
   ]
  },
  {
   "cell_type": "code",
   "execution_count": null,
   "id": "2bf7cc5d",
   "metadata": {},
   "outputs": [],
   "source": [
    "using System;\n",
    "\n",
    "\n",
    "class Program\n",
    "{\n",
    "    static void Main()\n",
    "    {\n",
    "        var i = 10;\n",
    "        Console.WriteLine(\"Type of i is {0}\", i.GetType());\n",
    "\n",
    "        var str = \"Hello World!!\";\n",
    "        Console.WriteLine(\"Type of str is {0}\", str.GetType());\n",
    "\n",
    "        var dbl = 100.50d;\n",
    "        Console.WriteLine(\"Type of dbl is {0}\", dbl.GetType());\n",
    "\n",
    "        var isValid = true;\n",
    "        Console.WriteLine(\"Type of isValid is {0}\", isValid.GetType());\n",
    "\n",
    "        var ano = new { name = \"Steve\" };\n",
    "        Console.WriteLine(\"Type of ano is {0}\", ano.GetType());\n",
    "\n",
    "        var arr = new[] { 1, 10, 20, 30 };\n",
    "        Console.WriteLine(\"Type of arr is {0}\", arr.GetType());\n",
    "\n",
    "        var file = new FileInfo(\"MyFile\");\n",
    "        Console.WriteLine(\"Type of file is {0}\", file.GetType());\n",
    "\n",
    "    }\n",
    "\n",
    "}"
   ]
  },
  {
   "cell_type": "raw",
   "id": "2f69b447",
   "metadata": {},
   "source": [
    "得到的結果為:\n",
    "\n",
    "Type of i is System.Int32\n",
    "Type of str is System.String\n",
    "Type of dbl is System.Double\n",
    "Type of isValid is System.Boolean\n",
    "Type of ano is <>f__AnonymousType0`1[System.String]\n",
    "Type of arr is System.Int32[]\n",
    "Type of file is System.IO.FileInfo"
   ]
  },
  {
   "cell_type": "markdown",
   "id": "a0bd7a94",
   "metadata": {},
   "source": [
    "---"
   ]
  },
  {
   "cell_type": "raw",
   "id": "3efaca01",
   "metadata": {},
   "source": [
    "隱式類型的變量必須在聲明時進行初始化；否則，C# 編譯器會給出錯誤：必須初始化隱式類型的變量。 "
   ]
  },
  {
   "cell_type": "code",
   "execution_count": null,
   "id": "903c036e",
   "metadata": {},
   "outputs": [],
   "source": [
    "var i; // 編譯時錯誤：必須初始化隱式類型的變量\n",
    "i = 100; "
   ]
  },
  {
   "cell_type": "markdown",
   "id": "93ab1e0c",
   "metadata": {},
   "source": [
    "---"
   ]
  },
  {
   "cell_type": "raw",
   "id": "828c6315",
   "metadata": {},
   "source": [
    "var 不允許在單個語句中多次聲明變量。"
   ]
  },
  {
   "cell_type": "code",
   "execution_count": null,
   "id": "4cea5036",
   "metadata": {},
   "outputs": [],
   "source": [
    "var i = 100, j = 200, k = 300; // 錯誤：無法在單個語句中聲明 var 變量 "
   ]
  },
  {
   "cell_type": "markdown",
   "id": "e982a596",
   "metadata": {},
   "source": [
    "---"
   ]
  },
  {
   "cell_type": "raw",
   "id": "22491d58",
   "metadata": {},
   "source": [
    "var 不能用於函數參數。"
   ]
  },
  {
   "cell_type": "code",
   "execution_count": null,
   "id": "02be355e",
   "metadata": {},
   "outputs": [],
   "source": [
    "void Display(var param) //編譯時錯誤\n",
    "{\n",
    "    Console.Write(param);\n",
    "}"
   ]
  },
  {
   "cell_type": "markdown",
   "id": "696026aa",
   "metadata": {},
   "source": [
    "---"
   ]
  },
  {
   "cell_type": "raw",
   "id": "b53d939d",
   "metadata": {},
   "source": [
    "var 可以在 for 和 foreach 循環中使用。"
   ]
  },
  {
   "cell_type": "code",
   "execution_count": null,
   "id": "d18de629",
   "metadata": {},
   "outputs": [],
   "source": [
    "for(var i = 0; i < 10; i++)\n",
    "{   \n",
    "    Console.WriteLine(i);\n",
    "}"
   ]
  }
 ],
 "metadata": {
  "kernelspec": {
   "display_name": "Python 3",
   "language": "python",
   "name": "python3"
  },
  "language_info": {
   "codemirror_mode": {
    "name": "ipython",
    "version": 3
   },
   "file_extension": ".py",
   "mimetype": "text/x-python",
   "name": "python",
   "nbconvert_exporter": "python",
   "pygments_lexer": "ipython3",
   "version": "3.8.10"
  }
 },
 "nbformat": 4,
 "nbformat_minor": 5
}
