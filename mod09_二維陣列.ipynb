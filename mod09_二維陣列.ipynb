{
 "cells": [
  {
   "cell_type": "markdown",
   "id": "c018ee23",
   "metadata": {},
   "source": [
    "# 二維陣列"
   ]
  },
  {
   "cell_type": "markdown",
   "id": "cc1202a8",
   "metadata": {},
   "source": [
    "### 方法一"
   ]
  },
  {
   "cell_type": "code",
   "execution_count": null,
   "id": "f44f8809",
   "metadata": {},
   "outputs": [],
   "source": [
    "int[,] nums = {\n",
    "    {1, 2, 3},\n",
    "    {4, 5, 6},\n",
    "    {7, 8, 9}\n",
    "};\n",
    "\n",
    "System.Console.WriteLine(nums[0, 0]);"
   ]
  },
  {
   "cell_type": "markdown",
   "id": "86d50c0e",
   "metadata": {},
   "source": [
    "### 方法二"
   ]
  },
  {
   "cell_type": "code",
   "execution_count": null,
   "id": "21353129",
   "metadata": {},
   "outputs": [],
   "source": [
    "int[,] num = new int[3, 4];\n",
    "num[0, 0] = 3;\n",
    "num[0, 1] = 4;\n",
    "\n",
    "System.Console.WriteLine(num[0, 0]);"
   ]
  }
 ],
 "metadata": {
  "kernelspec": {
   "display_name": "Python 3",
   "language": "python",
   "name": "python3"
  },
  "language_info": {
   "codemirror_mode": {
    "name": "ipython",
    "version": 3
   },
   "file_extension": ".py",
   "mimetype": "text/x-python",
   "name": "python",
   "nbconvert_exporter": "python",
   "pygments_lexer": "ipython3",
   "version": "3.8.10"
  }
 },
 "nbformat": 4,
 "nbformat_minor": 5
}
