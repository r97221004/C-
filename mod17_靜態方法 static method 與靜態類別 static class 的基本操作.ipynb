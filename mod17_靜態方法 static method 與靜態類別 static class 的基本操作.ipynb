{
 "cells": [
  {
   "cell_type": "markdown",
   "id": "aecc1adc",
   "metadata": {},
   "source": [
    "# 靜態方法操作"
   ]
  },
  {
   "cell_type": "raw",
   "id": "d02b58bb",
   "metadata": {},
   "source": [
    "靜態方法是類別的方法，不用 new 一個物件。但是注意物件不會有這個方法可以使用。"
   ]
  },
  {
   "cell_type": "raw",
   "id": "829cf19f",
   "metadata": {},
   "source": [
    "Tool.cs 檔"
   ]
  },
  {
   "cell_type": "code",
   "execution_count": null,
   "id": "a818b2aa",
   "metadata": {},
   "outputs": [],
   "source": [
    "using System;\n",
    "\n",
    "namespace ConsoleApp1\n",
    "{\n",
    "    class Tool\n",
    "    {\n",
    "        public static void say_hi()\n",
    "        {\n",
    "            Console.WriteLine(\"Hi\");\n",
    "        }\n",
    "    }\n",
    "}"
   ]
  },
  {
   "cell_type": "code",
   "execution_count": null,
   "id": "c350cb61",
   "metadata": {},
   "outputs": [],
   "source": [
    "Program.cs 檔"
   ]
  },
  {
   "cell_type": "code",
   "execution_count": null,
   "id": "bc167d56",
   "metadata": {},
   "outputs": [],
   "source": [
    "using ConsoleApp1;\n",
    "\n",
    "Tool.say_hi();"
   ]
  },
  {
   "cell_type": "markdown",
   "id": "79e8770d",
   "metadata": {},
   "source": [
    "# 靜態類別操作"
   ]
  },
  {
   "cell_type": "raw",
   "id": "739b29e9",
   "metadata": {},
   "source": [
    "如果一個類別是靜態類別，是沒有辦法建立一個物件的。"
   ]
  },
  {
   "cell_type": "raw",
   "id": "d284b9c5",
   "metadata": {},
   "source": [
    "Tool.cs 檔"
   ]
  },
  {
   "cell_type": "code",
   "execution_count": null,
   "id": "28a5f854",
   "metadata": {},
   "outputs": [],
   "source": [
    "using System;\n",
    "\n",
    "namespace ConsoleApp1\n",
    "{\n",
    "    static class Tool\n",
    "    {\n",
    "        public static void say_hi()\n",
    "        {\n",
    "            Console.WriteLine(\"Hi\");\n",
    "        }\n",
    "    }\n",
    "}"
   ]
  },
  {
   "cell_type": "raw",
   "id": "7d6155b2",
   "metadata": {},
   "source": [
    "Program.cs 檔"
   ]
  },
  {
   "cell_type": "code",
   "execution_count": null,
   "id": "4bd16ce6",
   "metadata": {},
   "outputs": [],
   "source": [
    "using ConsoleApp1;\n",
    "\n",
    "Tool.say_hi();"
   ]
  }
 ],
 "metadata": {
  "kernelspec": {
   "display_name": "Python 3",
   "language": "python",
   "name": "python3"
  },
  "language_info": {
   "codemirror_mode": {
    "name": "ipython",
    "version": 3
   },
   "file_extension": ".py",
   "mimetype": "text/x-python",
   "name": "python",
   "nbconvert_exporter": "python",
   "pygments_lexer": "ipython3",
   "version": "3.8.10"
  }
 },
 "nbformat": 4,
 "nbformat_minor": 5
}
