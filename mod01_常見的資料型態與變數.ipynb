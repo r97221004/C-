{
 "cells": [
  {
   "cell_type": "markdown",
   "id": "085d1fc6",
   "metadata": {},
   "source": [
    "# 常見的資料型態 & 變數"
   ]
  },
  {
   "cell_type": "raw",
   "id": "32867f3c",
   "metadata": {},
   "source": [
    "字串 string \"小白好帥\"\n",
    "字元 char 'a'\n",
    "整數 int 40\n",
    "浮點數 double 160.5\n",
    "布林值 bool true false"
   ]
  },
  {
   "cell_type": "raw",
   "id": "77410931",
   "metadata": {},
   "source": [
    "定義好的變數，資料內容可以做更改，但是不可以改變資料型態。"
   ]
  },
  {
   "cell_type": "code",
   "execution_count": null,
   "id": "dca1f09d",
   "metadata": {},
   "outputs": [],
   "source": [
    "string name = \"小白\";\n",
    "char sex = 'M';\n",
    "int age = 30;\n",
    "double height = 180.3;\n",
    "bool is_male = true;\n",
    "\n",
    "System.Console.WriteLine(\"有一個人叫\" +  name);\n",
    "name = \"小黃\";\n",
    "System.Console.WriteLine(name + \"今年 87 歲\");\n",
    "name = \"小輝\";\n",
    "System.Console.WriteLine(name + \"身高 187 公分\");\n",
    "name = \"小白\";\n",
    "System.Console.WriteLine(name + \"小白討厭自己 87 歲\");"
   ]
  }
 ],
 "metadata": {
  "kernelspec": {
   "display_name": "Python 3",
   "language": "python",
   "name": "python3"
  },
  "language_info": {
   "codemirror_mode": {
    "name": "ipython",
    "version": 3
   },
   "file_extension": ".py",
   "mimetype": "text/x-python",
   "name": "python",
   "nbconvert_exporter": "python",
   "pygments_lexer": "ipython3",
   "version": "3.8.10"
  }
 },
 "nbformat": 4,
 "nbformat_minor": 5
}
