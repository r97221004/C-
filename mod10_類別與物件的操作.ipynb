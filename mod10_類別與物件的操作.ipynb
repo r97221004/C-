{
 "cells": [
  {
   "cell_type": "markdown",
   "id": "04006fd6",
   "metadata": {},
   "source": [
    "# class、object 類別與物件"
   ]
  },
  {
   "cell_type": "raw",
   "id": "7b861c81",
   "metadata": {},
   "source": [
    "Person.cs 檔:"
   ]
  },
  {
   "cell_type": "code",
   "execution_count": null,
   "id": "8cc44db1",
   "metadata": {},
   "outputs": [],
   "source": [
    "class Person\n",
    "{\n",
    "    public double height;\n",
    "    public int age;\n",
    "    public string name;\n",
    "}"
   ]
  },
  {
   "cell_type": "raw",
   "id": "8ab36f43",
   "metadata": {},
   "source": [
    "ConsoleApp1.cs 檔:"
   ]
  },
  {
   "cell_type": "code",
   "execution_count": null,
   "id": "7ef381e3",
   "metadata": {},
   "outputs": [],
   "source": [
    "Person person1 = new Person();\n",
    "person1.height = 170.5;\n",
    "person1.age = 42;\n",
    "person1.name = \"小黑\";\n",
    "\n",
    "Person person2 = new Person();\n",
    "person2.height = 160.6;\n",
    "person2.age = 22;\n",
    "person2.name = \"小橘\";\n",
    "\n",
    "System.Console.WriteLine(person1.name);\n",
    "System.Console.WriteLine(person2.age);"
   ]
  }
 ],
 "metadata": {
  "kernelspec": {
   "display_name": "Python 3",
   "language": "python",
   "name": "python3"
  },
  "language_info": {
   "codemirror_mode": {
    "name": "ipython",
    "version": 3
   },
   "file_extension": ".py",
   "mimetype": "text/x-python",
   "name": "python",
   "nbconvert_exporter": "python",
   "pygments_lexer": "ipython3",
   "version": "3.8.10"
  }
 },
 "nbformat": 4,
 "nbformat_minor": 5
}
